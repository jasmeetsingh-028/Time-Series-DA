{
 "cells": [
  {
   "cell_type": "code",
   "execution_count": 3,
   "id": "1726d4fa",
   "metadata": {},
   "outputs": [],
   "source": [
    "import numpy as np\n",
    "import matplotlib.pyplot as plt\n",
    "import statsmodels.api as sms\n",
    "import pandas as pd\n",
    "\n",
    "%matplotlib inline"
   ]
  },
  {
   "cell_type": "code",
   "execution_count": 4,
   "id": "b3b2de49",
   "metadata": {},
   "outputs": [],
   "source": [
    "df_ar = pd.read_csv('airline_passengers.csv')"
   ]
  },
  {
   "cell_type": "code",
   "execution_count": 5,
   "id": "13477606",
   "metadata": {},
   "outputs": [
    {
     "data": {
      "text/plain": [
       "Month                      0\n",
       "Thousands of Passengers    1\n",
       "dtype: int64"
      ]
     },
     "execution_count": 5,
     "metadata": {},
     "output_type": "execute_result"
    }
   ],
   "source": [
    "df_ar.isnull().sum()"
   ]
  },
  {
   "cell_type": "code",
   "execution_count": 6,
   "id": "0da54e10",
   "metadata": {},
   "outputs": [
    {
     "data": {
      "text/html": [
       "<div>\n",
       "<style scoped>\n",
       "    .dataframe tbody tr th:only-of-type {\n",
       "        vertical-align: middle;\n",
       "    }\n",
       "\n",
       "    .dataframe tbody tr th {\n",
       "        vertical-align: top;\n",
       "    }\n",
       "\n",
       "    .dataframe thead th {\n",
       "        text-align: right;\n",
       "    }\n",
       "</style>\n",
       "<table border=\"1\" class=\"dataframe\">\n",
       "  <thead>\n",
       "    <tr style=\"text-align: right;\">\n",
       "      <th></th>\n",
       "      <th>Month</th>\n",
       "      <th>Thousands of Passengers</th>\n",
       "    </tr>\n",
       "  </thead>\n",
       "  <tbody>\n",
       "    <tr>\n",
       "      <th>140</th>\n",
       "      <td>1960-09</td>\n",
       "      <td>508.0</td>\n",
       "    </tr>\n",
       "    <tr>\n",
       "      <th>141</th>\n",
       "      <td>1960-10</td>\n",
       "      <td>461.0</td>\n",
       "    </tr>\n",
       "    <tr>\n",
       "      <th>142</th>\n",
       "      <td>1960-11</td>\n",
       "      <td>390.0</td>\n",
       "    </tr>\n",
       "    <tr>\n",
       "      <th>143</th>\n",
       "      <td>1960-12</td>\n",
       "      <td>432.0</td>\n",
       "    </tr>\n",
       "    <tr>\n",
       "      <th>144</th>\n",
       "      <td>International airline passengers: monthly tota...</td>\n",
       "      <td>NaN</td>\n",
       "    </tr>\n",
       "  </tbody>\n",
       "</table>\n",
       "</div>"
      ],
      "text/plain": [
       "                                                 Month  Thousands of Passengers\n",
       "140                                            1960-09                    508.0\n",
       "141                                            1960-10                    461.0\n",
       "142                                            1960-11                    390.0\n",
       "143                                            1960-12                    432.0\n",
       "144  International airline passengers: monthly tota...                      NaN"
      ]
     },
     "execution_count": 6,
     "metadata": {},
     "output_type": "execute_result"
    }
   ],
   "source": [
    "df_ar.tail()"
   ]
  },
  {
   "cell_type": "code",
   "execution_count": 7,
   "id": "20a6bfc7",
   "metadata": {},
   "outputs": [],
   "source": [
    "## drop last value\n",
    "\n",
    "df_ar.dropna(axis=0, inplace=True)"
   ]
  },
  {
   "cell_type": "code",
   "execution_count": 8,
   "id": "7c3e1e7e",
   "metadata": {},
   "outputs": [
    {
     "data": {
      "text/plain": [
       "Month                      0\n",
       "Thousands of Passengers    0\n",
       "dtype: int64"
      ]
     },
     "execution_count": 8,
     "metadata": {},
     "output_type": "execute_result"
    }
   ],
   "source": [
    "df_ar.isnull().sum()"
   ]
  },
  {
   "cell_type": "code",
   "execution_count": 9,
   "id": "f1dc6264",
   "metadata": {},
   "outputs": [
    {
     "name": "stdout",
     "output_type": "stream",
     "text": [
      "<class 'pandas.core.frame.DataFrame'>\n",
      "Int64Index: 144 entries, 0 to 143\n",
      "Data columns (total 2 columns):\n",
      " #   Column                   Non-Null Count  Dtype  \n",
      "---  ------                   --------------  -----  \n",
      " 0   Month                    144 non-null    object \n",
      " 1   Thousands of Passengers  144 non-null    float64\n",
      "dtypes: float64(1), object(1)\n",
      "memory usage: 3.4+ KB\n"
     ]
    }
   ],
   "source": [
    "df_ar.info()"
   ]
  },
  {
   "cell_type": "code",
   "execution_count": 10,
   "id": "67f266da",
   "metadata": {},
   "outputs": [],
   "source": [
    "## month is object type and we need to change it to type date time\n",
    "\n",
    "df_ar['Month'] = pd.to_datetime(df_ar['Month'])"
   ]
  },
  {
   "cell_type": "code",
   "execution_count": 11,
   "id": "bfefad35",
   "metadata": {},
   "outputs": [
    {
     "name": "stdout",
     "output_type": "stream",
     "text": [
      "<class 'pandas.core.frame.DataFrame'>\n",
      "Int64Index: 144 entries, 0 to 143\n",
      "Data columns (total 2 columns):\n",
      " #   Column                   Non-Null Count  Dtype         \n",
      "---  ------                   --------------  -----         \n",
      " 0   Month                    144 non-null    datetime64[ns]\n",
      " 1   Thousands of Passengers  144 non-null    float64       \n",
      "dtypes: datetime64[ns](1), float64(1)\n",
      "memory usage: 3.4 KB\n"
     ]
    }
   ],
   "source": [
    "df_ar.info()"
   ]
  },
  {
   "cell_type": "code",
   "execution_count": 12,
   "id": "71d4f0a7",
   "metadata": {},
   "outputs": [
    {
     "data": {
      "text/html": [
       "<div>\n",
       "<style scoped>\n",
       "    .dataframe tbody tr th:only-of-type {\n",
       "        vertical-align: middle;\n",
       "    }\n",
       "\n",
       "    .dataframe tbody tr th {\n",
       "        vertical-align: top;\n",
       "    }\n",
       "\n",
       "    .dataframe thead th {\n",
       "        text-align: right;\n",
       "    }\n",
       "</style>\n",
       "<table border=\"1\" class=\"dataframe\">\n",
       "  <thead>\n",
       "    <tr style=\"text-align: right;\">\n",
       "      <th></th>\n",
       "      <th>Month</th>\n",
       "      <th>Thousands of Passengers</th>\n",
       "    </tr>\n",
       "  </thead>\n",
       "  <tbody>\n",
       "    <tr>\n",
       "      <th>0</th>\n",
       "      <td>1949-01-01</td>\n",
       "      <td>112.0</td>\n",
       "    </tr>\n",
       "    <tr>\n",
       "      <th>1</th>\n",
       "      <td>1949-02-01</td>\n",
       "      <td>118.0</td>\n",
       "    </tr>\n",
       "    <tr>\n",
       "      <th>2</th>\n",
       "      <td>1949-03-01</td>\n",
       "      <td>132.0</td>\n",
       "    </tr>\n",
       "    <tr>\n",
       "      <th>3</th>\n",
       "      <td>1949-04-01</td>\n",
       "      <td>129.0</td>\n",
       "    </tr>\n",
       "    <tr>\n",
       "      <th>4</th>\n",
       "      <td>1949-05-01</td>\n",
       "      <td>121.0</td>\n",
       "    </tr>\n",
       "  </tbody>\n",
       "</table>\n",
       "</div>"
      ],
      "text/plain": [
       "       Month  Thousands of Passengers\n",
       "0 1949-01-01                    112.0\n",
       "1 1949-02-01                    118.0\n",
       "2 1949-03-01                    132.0\n",
       "3 1949-04-01                    129.0\n",
       "4 1949-05-01                    121.0"
      ]
     },
     "execution_count": 12,
     "metadata": {},
     "output_type": "execute_result"
    }
   ],
   "source": [
    "df_ar.head()"
   ]
  },
  {
   "cell_type": "code",
   "execution_count": 13,
   "id": "cc033576",
   "metadata": {},
   "outputs": [
    {
     "data": {
      "text/plain": [
       "<AxesSubplot:>"
      ]
     },
     "execution_count": 13,
     "metadata": {},
     "output_type": "execute_result"
    },
    {
     "data": {
      "image/png": "[encoded data removed]",
      "text/plain": [
       "<Figure size 864x432 with 1 Axes>"
      ]
     },
     "metadata": {
      "needs_background": "light"
     },
     "output_type": "display_data"
    }
   ],
   "source": [
    "df_ar['Thousands of Passengers'].plot(figsize = (12,6))"
   ]
  },
  {
   "cell_type": "code",
   "execution_count": 14,
   "id": "54e7151c",
   "metadata": {},
   "outputs": [],
   "source": [
    "## set month column as index\n",
    "\n",
    "df_ar.set_index('Month', inplace = True)"
   ]
  },
  {
   "cell_type": "code",
   "execution_count": 15,
   "id": "3d3fdba8",
   "metadata": {},
   "outputs": [
    {
     "data": {
      "text/html": [
       "<div>\n",
       "<style scoped>\n",
       "    .dataframe tbody tr th:only-of-type {\n",
       "        vertical-align: middle;\n",
       "    }\n",
       "\n",
       "    .dataframe tbody tr th {\n",
       "        vertical-align: top;\n",
       "    }\n",
       "\n",
       "    .dataframe thead th {\n",
       "        text-align: right;\n",
       "    }\n",
       "</style>\n",
       "<table border=\"1\" class=\"dataframe\">\n",
       "  <thead>\n",
       "    <tr style=\"text-align: right;\">\n",
       "      <th></th>\n",
       "      <th>Thousands of Passengers</th>\n",
       "    </tr>\n",
       "    <tr>\n",
       "      <th>Month</th>\n",
       "      <th></th>\n",
       "    </tr>\n",
       "  </thead>\n",
       "  <tbody>\n",
       "    <tr>\n",
       "      <th>1949-01-01</th>\n",
       "      <td>112.0</td>\n",
       "    </tr>\n",
       "    <tr>\n",
       "      <th>1949-02-01</th>\n",
       "      <td>118.0</td>\n",
       "    </tr>\n",
       "    <tr>\n",
       "      <th>1949-03-01</th>\n",
       "      <td>132.0</td>\n",
       "    </tr>\n",
       "    <tr>\n",
       "      <th>1949-04-01</th>\n",
       "      <td>129.0</td>\n",
       "    </tr>\n",
       "    <tr>\n",
       "      <th>1949-05-01</th>\n",
       "      <td>121.0</td>\n",
       "    </tr>\n",
       "    <tr>\n",
       "      <th>...</th>\n",
       "      <td>...</td>\n",
       "    </tr>\n",
       "    <tr>\n",
       "      <th>1960-08-01</th>\n",
       "      <td>606.0</td>\n",
       "    </tr>\n",
       "    <tr>\n",
       "      <th>1960-09-01</th>\n",
       "      <td>508.0</td>\n",
       "    </tr>\n",
       "    <tr>\n",
       "      <th>1960-10-01</th>\n",
       "      <td>461.0</td>\n",
       "    </tr>\n",
       "    <tr>\n",
       "      <th>1960-11-01</th>\n",
       "      <td>390.0</td>\n",
       "    </tr>\n",
       "    <tr>\n",
       "      <th>1960-12-01</th>\n",
       "      <td>432.0</td>\n",
       "    </tr>\n",
       "  </tbody>\n",
       "</table>\n",
       "<p>144 rows × 1 columns</p>\n",
       "</div>"
      ],
      "text/plain": [
       "            Thousands of Passengers\n",
       "Month                              \n",
       "1949-01-01                    112.0\n",
       "1949-02-01                    118.0\n",
       "1949-03-01                    132.0\n",
       "1949-04-01                    129.0\n",
       "1949-05-01                    121.0\n",
       "...                             ...\n",
       "1960-08-01                    606.0\n",
       "1960-09-01                    508.0\n",
       "1960-10-01                    461.0\n",
       "1960-11-01                    390.0\n",
       "1960-12-01                    432.0\n",
       "\n",
       "[144 rows x 1 columns]"
      ]
     },
     "execution_count": 15,
     "metadata": {},
     "output_type": "execute_result"
    }
   ],
   "source": [
    "df_ar"
   ]
  },
  {
   "cell_type": "code",
   "execution_count": 17,
   "id": "cf8e7392",
   "metadata": {},
   "outputs": [
    {
     "data": {
      "text/plain": [
       "<AxesSubplot:xlabel='Month'>"
      ]
     },
     "execution_count": 17,
     "metadata": {},
     "output_type": "execute_result"
    },
    {
     "data": {
      "image/png": "[encoded data removed]",
      "text/plain": [
       "<Figure size 864x432 with 1 Axes>"
      ]
     },
     "metadata": {
      "needs_background": "light"
     },
     "output_type": "display_data"
    }
   ],
   "source": [
    "df_ar.plot(figsize = (12,6))   ## shows that data is seasonal with upward trend\n",
    "\n",
    "##dataset is not stationary"
   ]
  },
  {
   "cell_type": "code",
   "execution_count": 18,
   "id": "b1d7c715",
   "metadata": {},
   "outputs": [],
   "source": [
    "## performing dickey fuller test\n",
    "\n",
    "from statsmodels.tsa.stattools import adfuller\n",
    "\n",
    "p_val = adfuller(df_ar['Thousands of Passengers'])"
   ]
  },
  {
   "cell_type": "code",
   "execution_count": 19,
   "id": "a0713b87",
   "metadata": {},
   "outputs": [
    {
     "name": "stdout",
     "output_type": "stream",
     "text": [
      "(0.8153688792060433, 0.9918802434376409, 13, 130, {'1%': -3.4816817173418295, '5%': -2.8840418343195267, '10%': -2.578770059171598}, 996.692930839019)\n"
     ]
    }
   ],
   "source": [
    "print(p_val)\n",
    "\n",
    "#p_val==0.99 > 0.05 so null hypothesis is accepted and the data is not stationary"
   ]
  },
  {
   "cell_type": "code",
   "execution_count": 20,
   "id": "64c1bce3",
   "metadata": {},
   "outputs": [],
   "source": [
    "## making data stationary\n",
    "## applying differencing technique - 1 shift\n",
    "\n",
    "df_ar['First difference'] = df_ar['Thousands of Passengers'] - df_ar['Thousands of Passengers'].shift(1)"
   ]
  },
  {
   "cell_type": "code",
   "execution_count": 21,
   "id": "f10b3667",
   "metadata": {
    "scrolled": true
   },
   "outputs": [
    {
     "data": {
      "text/html": [
       "<div>\n",
       "<style scoped>\n",
       "    .dataframe tbody tr th:only-of-type {\n",
       "        vertical-align: middle;\n",
       "    }\n",
       "\n",
       "    .dataframe tbody tr th {\n",
       "        vertical-align: top;\n",
       "    }\n",
       "\n",
       "    .dataframe thead th {\n",
       "        text-align: right;\n",
       "    }\n",
       "</style>\n",
       "<table border=\"1\" class=\"dataframe\">\n",
       "  <thead>\n",
       "    <tr style=\"text-align: right;\">\n",
       "      <th></th>\n",
       "      <th>Thousands of Passengers</th>\n",
       "      <th>First difference</th>\n",
       "    </tr>\n",
       "    <tr>\n",
       "      <th>Month</th>\n",
       "      <th></th>\n",
       "      <th></th>\n",
       "    </tr>\n",
       "  </thead>\n",
       "  <tbody>\n",
       "    <tr>\n",
       "      <th>1949-01-01</th>\n",
       "      <td>112.0</td>\n",
       "      <td>NaN</td>\n",
       "    </tr>\n",
       "    <tr>\n",
       "      <th>1949-02-01</th>\n",
       "      <td>118.0</td>\n",
       "      <td>6.0</td>\n",
       "    </tr>\n",
       "    <tr>\n",
       "      <th>1949-03-01</th>\n",
       "      <td>132.0</td>\n",
       "      <td>14.0</td>\n",
       "    </tr>\n",
       "    <tr>\n",
       "      <th>1949-04-01</th>\n",
       "      <td>129.0</td>\n",
       "      <td>-3.0</td>\n",
       "    </tr>\n",
       "    <tr>\n",
       "      <th>1949-05-01</th>\n",
       "      <td>121.0</td>\n",
       "      <td>-8.0</td>\n",
       "    </tr>\n",
       "  </tbody>\n",
       "</table>\n",
       "</div>"
      ],
      "text/plain": [
       "            Thousands of Passengers  First difference\n",
       "Month                                                \n",
       "1949-01-01                    112.0               NaN\n",
       "1949-02-01                    118.0               6.0\n",
       "1949-03-01                    132.0              14.0\n",
       "1949-04-01                    129.0              -3.0\n",
       "1949-05-01                    121.0              -8.0"
      ]
     },
     "execution_count": 21,
     "metadata": {},
     "output_type": "execute_result"
    }
   ],
   "source": [
    "df_ar.head()"
   ]
  },
  {
   "cell_type": "code",
   "execution_count": 22,
   "id": "2be622a6",
   "metadata": {},
   "outputs": [
    {
     "name": "stdout",
     "output_type": "stream",
     "text": [
      "(-2.829266824169995, 0.05421329028382612, 12, 130, {'1%': -3.4816817173418295, '5%': -2.8840418343195267, '10%': -2.578770059171598}, 988.5069317854085)\n"
     ]
    }
   ],
   "source": [
    "## performing dikey-fuller test on 1st difference\n",
    "\n",
    "p_val = adfuller(df_ar['First difference'].dropna())\n",
    "print(p_val)\n",
    "\n",
    "## p_val>=0.05 and null hypothesis is accepted - Data is non stationary"
   ]
  },
  {
   "cell_type": "code",
   "execution_count": 23,
   "id": "6bdabb3d",
   "metadata": {},
   "outputs": [],
   "source": [
    "## performing 2nd difference\n",
    "\n",
    "df_ar['Second difference'] = df_ar['First difference'] - df_ar['First difference'].shift(1)"
   ]
  },
  {
   "cell_type": "code",
   "execution_count": 24,
   "id": "93554a81",
   "metadata": {},
   "outputs": [
    {
     "data": {
      "text/html": [
       "<div>\n",
       "<style scoped>\n",
       "    .dataframe tbody tr th:only-of-type {\n",
       "        vertical-align: middle;\n",
       "    }\n",
       "\n",
       "    .dataframe tbody tr th {\n",
       "        vertical-align: top;\n",
       "    }\n",
       "\n",
       "    .dataframe thead th {\n",
       "        text-align: right;\n",
       "    }\n",
       "</style>\n",
       "<table border=\"1\" class=\"dataframe\">\n",
       "  <thead>\n",
       "    <tr style=\"text-align: right;\">\n",
       "      <th></th>\n",
       "      <th>Thousands of Passengers</th>\n",
       "      <th>First difference</th>\n",
       "      <th>Second difference</th>\n",
       "    </tr>\n",
       "    <tr>\n",
       "      <th>Month</th>\n",
       "      <th></th>\n",
       "      <th></th>\n",
       "      <th></th>\n",
       "    </tr>\n",
       "  </thead>\n",
       "  <tbody>\n",
       "    <tr>\n",
       "      <th>1949-01-01</th>\n",
       "      <td>112.0</td>\n",
       "      <td>NaN</td>\n",
       "      <td>NaN</td>\n",
       "    </tr>\n",
       "    <tr>\n",
       "      <th>1949-02-01</th>\n",
       "      <td>118.0</td>\n",
       "      <td>6.0</td>\n",
       "      <td>NaN</td>\n",
       "    </tr>\n",
       "    <tr>\n",
       "      <th>1949-03-01</th>\n",
       "      <td>132.0</td>\n",
       "      <td>14.0</td>\n",
       "      <td>8.0</td>\n",
       "    </tr>\n",
       "    <tr>\n",
       "      <th>1949-04-01</th>\n",
       "      <td>129.0</td>\n",
       "      <td>-3.0</td>\n",
       "      <td>-17.0</td>\n",
       "    </tr>\n",
       "    <tr>\n",
       "      <th>1949-05-01</th>\n",
       "      <td>121.0</td>\n",
       "      <td>-8.0</td>\n",
       "      <td>-5.0</td>\n",
       "    </tr>\n",
       "    <tr>\n",
       "      <th>...</th>\n",
       "      <td>...</td>\n",
       "      <td>...</td>\n",
       "      <td>...</td>\n",
       "    </tr>\n",
       "    <tr>\n",
       "      <th>1960-08-01</th>\n",
       "      <td>606.0</td>\n",
       "      <td>-16.0</td>\n",
       "      <td>-103.0</td>\n",
       "    </tr>\n",
       "    <tr>\n",
       "      <th>1960-09-01</th>\n",
       "      <td>508.0</td>\n",
       "      <td>-98.0</td>\n",
       "      <td>-82.0</td>\n",
       "    </tr>\n",
       "    <tr>\n",
       "      <th>1960-10-01</th>\n",
       "      <td>461.0</td>\n",
       "      <td>-47.0</td>\n",
       "      <td>51.0</td>\n",
       "    </tr>\n",
       "    <tr>\n",
       "      <th>1960-11-01</th>\n",
       "      <td>390.0</td>\n",
       "      <td>-71.0</td>\n",
       "      <td>-24.0</td>\n",
       "    </tr>\n",
       "    <tr>\n",
       "      <th>1960-12-01</th>\n",
       "      <td>432.0</td>\n",
       "      <td>42.0</td>\n",
       "      <td>113.0</td>\n",
       "    </tr>\n",
       "  </tbody>\n",
       "</table>\n",
       "<p>144 rows × 3 columns</p>\n",
       "</div>"
      ],
      "text/plain": [
       "            Thousands of Passengers  First difference  Second difference\n",
       "Month                                                                   \n",
       "1949-01-01                    112.0               NaN                NaN\n",
       "1949-02-01                    118.0               6.0                NaN\n",
       "1949-03-01                    132.0              14.0                8.0\n",
       "1949-04-01                    129.0              -3.0              -17.0\n",
       "1949-05-01                    121.0              -8.0               -5.0\n",
       "...                             ...               ...                ...\n",
       "1960-08-01                    606.0             -16.0             -103.0\n",
       "1960-09-01                    508.0             -98.0              -82.0\n",
       "1960-10-01                    461.0             -47.0               51.0\n",
       "1960-11-01                    390.0             -71.0              -24.0\n",
       "1960-12-01                    432.0              42.0              113.0\n",
       "\n",
       "[144 rows x 3 columns]"
      ]
     },
     "execution_count": 24,
     "metadata": {},
     "output_type": "execute_result"
    }
   ],
   "source": [
    "df_ar"
   ]
  },
  {
   "cell_type": "code",
   "execution_count": 25,
   "id": "2d994546",
   "metadata": {},
   "outputs": [
    {
     "name": "stdout",
     "output_type": "stream",
     "text": [
      "(-16.3842315424685, 2.7328918500142407e-29, 11, 130, {'1%': -3.4816817173418295, '5%': -2.8840418343195267, '10%': -2.578770059171598}, 988.6020417275604)\n"
     ]
    }
   ],
   "source": [
    "#again performing dickey fuller test\n",
    "\n",
    "p_val = adfuller(df_ar['Second difference'].dropna())\n",
    "print(p_val)\n",
    "\n",
    "## null hypothesis is rejected.\n",
    "## d value is -2"
   ]
  },
  {
   "cell_type": "code",
   "execution_count": 26,
   "id": "403cc4db",
   "metadata": {},
   "outputs": [],
   "source": [
    "## seasonal difference can also be applied by a shift of 12 months -  for an entire year \n",
    "## sometimes arima may not work well sarimax will work well \n",
    "\n",
    "## df_ar['12 difference'] = df_ar['Thousands of passengers'] - df_ar['Thousands of passengers'] .shift(12)"
   ]
  },
  {
   "cell_type": "code",
   "execution_count": 27,
   "id": "25518b27",
   "metadata": {},
   "outputs": [],
   "source": [
    "df_ar['12 difference'] = df_ar['Thousands of Passengers'] - df_ar['Thousands of Passengers'] .shift(12)"
   ]
  },
  {
   "cell_type": "code",
   "execution_count": 28,
   "id": "e1e7036a",
   "metadata": {},
   "outputs": [
    {
     "data": {
      "text/html": [
       "<div>\n",
       "<style scoped>\n",
       "    .dataframe tbody tr th:only-of-type {\n",
       "        vertical-align: middle;\n",
       "    }\n",
       "\n",
       "    .dataframe tbody tr th {\n",
       "        vertical-align: top;\n",
       "    }\n",
       "\n",
       "    .dataframe thead th {\n",
       "        text-align: right;\n",
       "    }\n",
       "</style>\n",
       "<table border=\"1\" class=\"dataframe\">\n",
       "  <thead>\n",
       "    <tr style=\"text-align: right;\">\n",
       "      <th></th>\n",
       "      <th>Thousands of Passengers</th>\n",
       "      <th>First difference</th>\n",
       "      <th>Second difference</th>\n",
       "      <th>12 difference</th>\n",
       "    </tr>\n",
       "    <tr>\n",
       "      <th>Month</th>\n",
       "      <th></th>\n",
       "      <th></th>\n",
       "      <th></th>\n",
       "      <th></th>\n",
       "    </tr>\n",
       "  </thead>\n",
       "  <tbody>\n",
       "    <tr>\n",
       "      <th>1949-01-01</th>\n",
       "      <td>112.0</td>\n",
       "      <td>NaN</td>\n",
       "      <td>NaN</td>\n",
       "      <td>NaN</td>\n",
       "    </tr>\n",
       "    <tr>\n",
       "      <th>1949-02-01</th>\n",
       "      <td>118.0</td>\n",
       "      <td>6.0</td>\n",
       "      <td>NaN</td>\n",
       "      <td>NaN</td>\n",
       "    </tr>\n",
       "    <tr>\n",
       "      <th>1949-03-01</th>\n",
       "      <td>132.0</td>\n",
       "      <td>14.0</td>\n",
       "      <td>8.0</td>\n",
       "      <td>NaN</td>\n",
       "    </tr>\n",
       "    <tr>\n",
       "      <th>1949-04-01</th>\n",
       "      <td>129.0</td>\n",
       "      <td>-3.0</td>\n",
       "      <td>-17.0</td>\n",
       "      <td>NaN</td>\n",
       "    </tr>\n",
       "    <tr>\n",
       "      <th>1949-05-01</th>\n",
       "      <td>121.0</td>\n",
       "      <td>-8.0</td>\n",
       "      <td>-5.0</td>\n",
       "      <td>NaN</td>\n",
       "    </tr>\n",
       "    <tr>\n",
       "      <th>...</th>\n",
       "      <td>...</td>\n",
       "      <td>...</td>\n",
       "      <td>...</td>\n",
       "      <td>...</td>\n",
       "    </tr>\n",
       "    <tr>\n",
       "      <th>1960-08-01</th>\n",
       "      <td>606.0</td>\n",
       "      <td>-16.0</td>\n",
       "      <td>-103.0</td>\n",
       "      <td>47.0</td>\n",
       "    </tr>\n",
       "    <tr>\n",
       "      <th>1960-09-01</th>\n",
       "      <td>508.0</td>\n",
       "      <td>-98.0</td>\n",
       "      <td>-82.0</td>\n",
       "      <td>45.0</td>\n",
       "    </tr>\n",
       "    <tr>\n",
       "      <th>1960-10-01</th>\n",
       "      <td>461.0</td>\n",
       "      <td>-47.0</td>\n",
       "      <td>51.0</td>\n",
       "      <td>54.0</td>\n",
       "    </tr>\n",
       "    <tr>\n",
       "      <th>1960-11-01</th>\n",
       "      <td>390.0</td>\n",
       "      <td>-71.0</td>\n",
       "      <td>-24.0</td>\n",
       "      <td>28.0</td>\n",
       "    </tr>\n",
       "    <tr>\n",
       "      <th>1960-12-01</th>\n",
       "      <td>432.0</td>\n",
       "      <td>42.0</td>\n",
       "      <td>113.0</td>\n",
       "      <td>27.0</td>\n",
       "    </tr>\n",
       "  </tbody>\n",
       "</table>\n",
       "<p>144 rows × 4 columns</p>\n",
       "</div>"
      ],
      "text/plain": [
       "            Thousands of Passengers  First difference  Second difference  12 difference\n",
       "Month                                                                                  \n",
       "1949-01-01                    112.0               NaN                NaN            NaN\n",
       "1949-02-01                    118.0               6.0                NaN            NaN\n",
       "1949-03-01                    132.0              14.0                8.0            NaN\n",
       "1949-04-01                    129.0              -3.0              -17.0            NaN\n",
       "1949-05-01                    121.0              -8.0               -5.0            NaN\n",
       "...                             ...               ...                ...            ...\n",
       "1960-08-01                    606.0             -16.0             -103.0           47.0\n",
       "1960-09-01                    508.0             -98.0              -82.0           45.0\n",
       "1960-10-01                    461.0             -47.0               51.0           54.0\n",
       "1960-11-01                    390.0             -71.0              -24.0           28.0\n",
       "1960-12-01                    432.0              42.0              113.0           27.0\n",
       "\n",
       "[144 rows x 4 columns]"
      ]
     },
     "execution_count": 28,
     "metadata": {},
     "output_type": "execute_result"
    }
   ],
   "source": [
    "df_ar"
   ]
  },
  {
   "cell_type": "code",
   "execution_count": 29,
   "id": "c7cc8a5a",
   "metadata": {},
   "outputs": [
    {
     "name": "stdout",
     "output_type": "stream",
     "text": [
      "(-3.3830207264924814, 0.011551493085514952, 1, 130, {'1%': -3.4816817173418295, '5%': -2.8840418343195267, '10%': -2.578770059171598}, 919.527129208137)\n"
     ]
    }
   ],
   "source": [
    "p_val = adfuller(df_ar['12 difference'].dropna())\n",
    "print(p_val) ##<<0.05\n",
    "## null hypothesis is rejected"
   ]
  },
  {
   "cell_type": "code",
   "execution_count": 30,
   "id": "8e6a9843",
   "metadata": {},
   "outputs": [],
   "source": [
    "## to determine the p and q value using pacf and acf plot\n",
    "\n",
    "from statsmodels.graphics.tsaplots import plot_acf, plot_pacf"
   ]
  },
  {
   "cell_type": "code",
   "execution_count": 31,
   "id": "3c7a5d91",
   "metadata": {},
   "outputs": [
    {
     "data": {
      "image/png": "[encoded data removed]",
      "text/plain": [
       "<Figure size 432x288 with 1 Axes>"
      ]
     },
     "metadata": {
      "needs_background": "light"
     },
     "output_type": "display_data"
    }
   ],
   "source": [
    "acf = plot_acf(df_ar['Second difference'].dropna())"
   ]
  },
  {
   "cell_type": "code",
   "execution_count": 34,
   "id": "45c904dd",
   "metadata": {},
   "outputs": [
    {
     "data": {
      "image/png": "[encoded data removed]",
      "text/plain": [
       "<Figure size 432x288 with 1 Axes>"
      ]
     },
     "metadata": {
      "needs_background": "light"
     },
     "output_type": "display_data"
    }
   ],
   "source": [
    "ac12 = plot_acf(df_ar['12 difference'].dropna())\n",
    "\n",
    "## q= 5"
   ]
  },
  {
   "cell_type": "code",
   "execution_count": 33,
   "id": "821dd701",
   "metadata": {},
   "outputs": [
    {
     "name": "stderr",
     "output_type": "stream",
     "text": [
      "C:\\Users\\sjasm\\anaconda3\\lib\\site-packages\\statsmodels\\regression\\linear_model.py:1434: RuntimeWarning: invalid value encountered in sqrt\n",
      "  return rho, np.sqrt(sigmasq)\n"
     ]
    },
    {
     "data": {
      "image/png": "[encoded data removed]",
      "text/plain": [
       "<Figure size 432x288 with 1 Axes>"
      ]
     },
     "metadata": {
      "needs_background": "light"
     },
     "output_type": "display_data"
    }
   ],
   "source": [
    "pacf = plot_pacf(df_ar['Second difference'].dropna())"
   ]
  },
  {
   "cell_type": "code",
   "execution_count": 35,
   "id": "e44afd29",
   "metadata": {},
   "outputs": [
    {
     "data": {
      "image/png": "[encoded data removed]",
      "text/plain": [
       "<Figure size 432x288 with 1 Axes>"
      ]
     },
     "metadata": {
      "needs_background": "light"
     },
     "output_type": "display_data"
    }
   ],
   "source": [
    "pacf_12 = plot_pacf(df_ar['12 difference'].dropna())\n",
    "\n",
    "## try p = 2 and p= 10 "
   ]
  },
  {
   "cell_type": "code",
   "execution_count": 36,
   "id": "d876981d",
   "metadata": {},
   "outputs": [
    {
     "data": {
      "text/html": [
       "<div>\n",
       "<style scoped>\n",
       "    .dataframe tbody tr th:only-of-type {\n",
       "        vertical-align: middle;\n",
       "    }\n",
       "\n",
       "    .dataframe tbody tr th {\n",
       "        vertical-align: top;\n",
       "    }\n",
       "\n",
       "    .dataframe thead th {\n",
       "        text-align: right;\n",
       "    }\n",
       "</style>\n",
       "<table border=\"1\" class=\"dataframe\">\n",
       "  <thead>\n",
       "    <tr style=\"text-align: right;\">\n",
       "      <th></th>\n",
       "      <th>Thousands of Passengers</th>\n",
       "      <th>First difference</th>\n",
       "      <th>Second difference</th>\n",
       "      <th>12 difference</th>\n",
       "    </tr>\n",
       "    <tr>\n",
       "      <th>Month</th>\n",
       "      <th></th>\n",
       "      <th></th>\n",
       "      <th></th>\n",
       "      <th></th>\n",
       "    </tr>\n",
       "  </thead>\n",
       "  <tbody>\n",
       "    <tr>\n",
       "      <th>1949-01-01</th>\n",
       "      <td>112.0</td>\n",
       "      <td>NaN</td>\n",
       "      <td>NaN</td>\n",
       "      <td>NaN</td>\n",
       "    </tr>\n",
       "    <tr>\n",
       "      <th>1949-02-01</th>\n",
       "      <td>118.0</td>\n",
       "      <td>6.0</td>\n",
       "      <td>NaN</td>\n",
       "      <td>NaN</td>\n",
       "    </tr>\n",
       "    <tr>\n",
       "      <th>1949-03-01</th>\n",
       "      <td>132.0</td>\n",
       "      <td>14.0</td>\n",
       "      <td>8.0</td>\n",
       "      <td>NaN</td>\n",
       "    </tr>\n",
       "    <tr>\n",
       "      <th>1949-04-01</th>\n",
       "      <td>129.0</td>\n",
       "      <td>-3.0</td>\n",
       "      <td>-17.0</td>\n",
       "      <td>NaN</td>\n",
       "    </tr>\n",
       "    <tr>\n",
       "      <th>1949-05-01</th>\n",
       "      <td>121.0</td>\n",
       "      <td>-8.0</td>\n",
       "      <td>-5.0</td>\n",
       "      <td>NaN</td>\n",
       "    </tr>\n",
       "    <tr>\n",
       "      <th>...</th>\n",
       "      <td>...</td>\n",
       "      <td>...</td>\n",
       "      <td>...</td>\n",
       "      <td>...</td>\n",
       "    </tr>\n",
       "    <tr>\n",
       "      <th>1960-08-01</th>\n",
       "      <td>606.0</td>\n",
       "      <td>-16.0</td>\n",
       "      <td>-103.0</td>\n",
       "      <td>47.0</td>\n",
       "    </tr>\n",
       "    <tr>\n",
       "      <th>1960-09-01</th>\n",
       "      <td>508.0</td>\n",
       "      <td>-98.0</td>\n",
       "      <td>-82.0</td>\n",
       "      <td>45.0</td>\n",
       "    </tr>\n",
       "    <tr>\n",
       "      <th>1960-10-01</th>\n",
       "      <td>461.0</td>\n",
       "      <td>-47.0</td>\n",
       "      <td>51.0</td>\n",
       "      <td>54.0</td>\n",
       "    </tr>\n",
       "    <tr>\n",
       "      <th>1960-11-01</th>\n",
       "      <td>390.0</td>\n",
       "      <td>-71.0</td>\n",
       "      <td>-24.0</td>\n",
       "      <td>28.0</td>\n",
       "    </tr>\n",
       "    <tr>\n",
       "      <th>1960-12-01</th>\n",
       "      <td>432.0</td>\n",
       "      <td>42.0</td>\n",
       "      <td>113.0</td>\n",
       "      <td>27.0</td>\n",
       "    </tr>\n",
       "  </tbody>\n",
       "</table>\n",
       "<p>144 rows × 4 columns</p>\n",
       "</div>"
      ],
      "text/plain": [
       "            Thousands of Passengers  First difference  Second difference  12 difference\n",
       "Month                                                                                  \n",
       "1949-01-01                    112.0               NaN                NaN            NaN\n",
       "1949-02-01                    118.0               6.0                NaN            NaN\n",
       "1949-03-01                    132.0              14.0                8.0            NaN\n",
       "1949-04-01                    129.0              -3.0              -17.0            NaN\n",
       "1949-05-01                    121.0              -8.0               -5.0            NaN\n",
       "...                             ...               ...                ...            ...\n",
       "1960-08-01                    606.0             -16.0             -103.0           47.0\n",
       "1960-09-01                    508.0             -98.0              -82.0           45.0\n",
       "1960-10-01                    461.0             -47.0               51.0           54.0\n",
       "1960-11-01                    390.0             -71.0              -24.0           28.0\n",
       "1960-12-01                    432.0              42.0              113.0           27.0\n",
       "\n",
       "[144 rows x 4 columns]"
      ]
     },
     "execution_count": 36,
     "metadata": {},
     "output_type": "execute_result"
    }
   ],
   "source": [
    "df_ar"
   ]
  },
  {
   "cell_type": "code",
   "execution_count": 37,
   "id": "be1c9368",
   "metadata": {},
   "outputs": [],
   "source": [
    "## split data\n",
    "\n",
    "from datetime import datetime, timedelta\n",
    "\n",
    "train_dataset_end_date = datetime(1955,12,1)\n",
    "test_dataset_end_date = datetime(1960,12,1)"
   ]
  },
  {
   "cell_type": "code",
   "execution_count": 40,
   "id": "163894d3",
   "metadata": {},
   "outputs": [],
   "source": [
    "train_data = df_ar[:train_dataset_end_date]\n",
    "test_data = df_ar[train_dataset_end_date + timedelta(days = 1) : test_dataset_end_date]"
   ]
  },
  {
   "cell_type": "code",
   "execution_count": 41,
   "id": "aadb56cc",
   "metadata": {},
   "outputs": [
    {
     "data": {
      "text/plain": [
       "((84, 4), (60, 4))"
      ]
     },
     "execution_count": 41,
     "metadata": {},
     "output_type": "execute_result"
    }
   ],
   "source": [
    "train_data.shape, test_data.shape"
   ]
  },
  {
   "cell_type": "code",
   "execution_count": 42,
   "id": "3792901a",
   "metadata": {},
   "outputs": [
    {
     "data": {
      "text/plain": [
       "(144, 4)"
      ]
     },
     "execution_count": 42,
     "metadata": {},
     "output_type": "execute_result"
    }
   ],
   "source": [
    "df_ar.shape"
   ]
  },
  {
   "cell_type": "code",
   "execution_count": 43,
   "id": "da5ee32f",
   "metadata": {},
   "outputs": [],
   "source": [
    "## create ARIMA model\n",
    "\n",
    "from statsmodels.tsa.arima_model import ARIMA"
   ]
  },
  {
   "cell_type": "code",
   "execution_count": 44,
   "id": "9b062908",
   "metadata": {},
   "outputs": [
    {
     "data": {
      "text/html": [
       "<div>\n",
       "<style scoped>\n",
       "    .dataframe tbody tr th:only-of-type {\n",
       "        vertical-align: middle;\n",
       "    }\n",
       "\n",
       "    .dataframe tbody tr th {\n",
       "        vertical-align: top;\n",
       "    }\n",
       "\n",
       "    .dataframe thead th {\n",
       "        text-align: right;\n",
       "    }\n",
       "</style>\n",
       "<table border=\"1\" class=\"dataframe\">\n",
       "  <thead>\n",
       "    <tr style=\"text-align: right;\">\n",
       "      <th></th>\n",
       "      <th>Thousands of Passengers</th>\n",
       "      <th>First difference</th>\n",
       "      <th>Second difference</th>\n",
       "      <th>12 difference</th>\n",
       "    </tr>\n",
       "    <tr>\n",
       "      <th>Month</th>\n",
       "      <th></th>\n",
       "      <th></th>\n",
       "      <th></th>\n",
       "      <th></th>\n",
       "    </tr>\n",
       "  </thead>\n",
       "  <tbody>\n",
       "    <tr>\n",
       "      <th>1949-01-01</th>\n",
       "      <td>112.0</td>\n",
       "      <td>NaN</td>\n",
       "      <td>NaN</td>\n",
       "      <td>NaN</td>\n",
       "    </tr>\n",
       "    <tr>\n",
       "      <th>1949-02-01</th>\n",
       "      <td>118.0</td>\n",
       "      <td>6.0</td>\n",
       "      <td>NaN</td>\n",
       "      <td>NaN</td>\n",
       "    </tr>\n",
       "    <tr>\n",
       "      <th>1949-03-01</th>\n",
       "      <td>132.0</td>\n",
       "      <td>14.0</td>\n",
       "      <td>8.0</td>\n",
       "      <td>NaN</td>\n",
       "    </tr>\n",
       "    <tr>\n",
       "      <th>1949-04-01</th>\n",
       "      <td>129.0</td>\n",
       "      <td>-3.0</td>\n",
       "      <td>-17.0</td>\n",
       "      <td>NaN</td>\n",
       "    </tr>\n",
       "    <tr>\n",
       "      <th>1949-05-01</th>\n",
       "      <td>121.0</td>\n",
       "      <td>-8.0</td>\n",
       "      <td>-5.0</td>\n",
       "      <td>NaN</td>\n",
       "    </tr>\n",
       "    <tr>\n",
       "      <th>...</th>\n",
       "      <td>...</td>\n",
       "      <td>...</td>\n",
       "      <td>...</td>\n",
       "      <td>...</td>\n",
       "    </tr>\n",
       "    <tr>\n",
       "      <th>1955-08-01</th>\n",
       "      <td>347.0</td>\n",
       "      <td>-17.0</td>\n",
       "      <td>-66.0</td>\n",
       "      <td>54.0</td>\n",
       "    </tr>\n",
       "    <tr>\n",
       "      <th>1955-09-01</th>\n",
       "      <td>312.0</td>\n",
       "      <td>-35.0</td>\n",
       "      <td>-18.0</td>\n",
       "      <td>53.0</td>\n",
       "    </tr>\n",
       "    <tr>\n",
       "      <th>1955-10-01</th>\n",
       "      <td>274.0</td>\n",
       "      <td>-38.0</td>\n",
       "      <td>-3.0</td>\n",
       "      <td>45.0</td>\n",
       "    </tr>\n",
       "    <tr>\n",
       "      <th>1955-11-01</th>\n",
       "      <td>237.0</td>\n",
       "      <td>-37.0</td>\n",
       "      <td>1.0</td>\n",
       "      <td>34.0</td>\n",
       "    </tr>\n",
       "    <tr>\n",
       "      <th>1955-12-01</th>\n",
       "      <td>278.0</td>\n",
       "      <td>41.0</td>\n",
       "      <td>78.0</td>\n",
       "      <td>49.0</td>\n",
       "    </tr>\n",
       "  </tbody>\n",
       "</table>\n",
       "<p>84 rows × 4 columns</p>\n",
       "</div>"
      ],
      "text/plain": [
       "            Thousands of Passengers  First difference  Second difference  12 difference\n",
       "Month                                                                                  \n",
       "1949-01-01                    112.0               NaN                NaN            NaN\n",
       "1949-02-01                    118.0               6.0                NaN            NaN\n",
       "1949-03-01                    132.0              14.0                8.0            NaN\n",
       "1949-04-01                    129.0              -3.0              -17.0            NaN\n",
       "1949-05-01                    121.0              -8.0               -5.0            NaN\n",
       "...                             ...               ...                ...            ...\n",
       "1955-08-01                    347.0             -17.0              -66.0           54.0\n",
       "1955-09-01                    312.0             -35.0              -18.0           53.0\n",
       "1955-10-01                    274.0             -38.0               -3.0           45.0\n",
       "1955-11-01                    237.0             -37.0                1.0           34.0\n",
       "1955-12-01                    278.0              41.0               78.0           49.0\n",
       "\n",
       "[84 rows x 4 columns]"
      ]
     },
     "execution_count": 44,
     "metadata": {},
     "output_type": "execute_result"
    }
   ],
   "source": [
    "train_data"
   ]
  },
  {
   "cell_type": "code",
   "execution_count": 85,
   "id": "db77c098",
   "metadata": {},
   "outputs": [
    {
     "name": "stderr",
     "output_type": "stream",
     "text": [
      "C:\\Users\\sjasm\\anaconda3\\lib\\site-packages\\statsmodels\\tsa\\arima_model.py:472: FutureWarning: \n",
      "statsmodels.tsa.arima_model.ARMA and statsmodels.tsa.arima_model.ARIMA have\n",
      "been deprecated in favor of statsmodels.tsa.arima.model.ARIMA (note the .\n",
      "between arima and model) and\n",
      "statsmodels.tsa.SARIMAX. These will be removed after the 0.12 release.\n",
      "\n",
      "statsmodels.tsa.arima.model.ARIMA makes use of the statespace framework and\n",
      "is both well tested and maintained.\n",
      "\n",
      "To silence this warning and continue using ARMA and ARIMA until they are\n",
      "removed, use:\n",
      "\n",
      "import warnings\n",
      "warnings.filterwarnings('ignore', 'statsmodels.tsa.arima_model.ARMA',\n",
      "                        FutureWarning)\n",
      "warnings.filterwarnings('ignore', 'statsmodels.tsa.arima_model.ARIMA',\n",
      "                        FutureWarning)\n",
      "\n",
      "  warnings.warn(ARIMA_DEPRECATION_WARN, FutureWarning)\n",
      "C:\\Users\\sjasm\\anaconda3\\lib\\site-packages\\statsmodels\\tsa\\base\\tsa_model.py:524: ValueWarning: No frequency information was provided, so inferred frequency MS will be used.\n",
      "  warnings.warn('No frequency information was'\n"
     ]
    }
   ],
   "source": [
    "model_arima = ARIMA(train_data['Thousands of Passengers'], order = (6,2,0))"
   ]
  },
  {
   "cell_type": "code",
   "execution_count": 86,
   "id": "181bea08",
   "metadata": {},
   "outputs": [],
   "source": [
    "model_ar = model_arima.fit()"
   ]
  },
  {
   "cell_type": "code",
   "execution_count": 87,
   "id": "ffc68d9e",
   "metadata": {},
   "outputs": [
    {
     "data": {
      "text/html": [
       "<table class=\"simpletable\">\n",
       "<caption>ARIMA Model Results</caption>\n",
       "<tr>\n",
       "  <th>Dep. Variable:</th> <td>D2.Thousands of Passengers</td> <th>  No. Observations:  </th>    <td>82</td>   \n",
       "</tr>\n",
       "<tr>\n",
       "  <th>Model:</th>               <td>ARIMA(6, 2, 0)</td>       <th>  Log Likelihood     </th> <td>-370.249</td>\n",
       "</tr>\n",
       "<tr>\n",
       "  <th>Method:</th>                  <td>css-mle</td>          <th>  S.D. of innovations</th>  <td>21.935</td> \n",
       "</tr>\n",
       "<tr>\n",
       "  <th>Date:</th>               <td>Sat, 26 Nov 2022</td>      <th>  AIC                </th>  <td>756.499</td>\n",
       "</tr>\n",
       "<tr>\n",
       "  <th>Time:</th>                   <td>23:05:43</td>          <th>  BIC                </th>  <td>775.752</td>\n",
       "</tr>\n",
       "<tr>\n",
       "  <th>Sample:</th>                <td>03-01-1949</td>         <th>  HQIC               </th>  <td>764.229</td>\n",
       "</tr>\n",
       "<tr>\n",
       "  <th></th>                      <td>- 12-01-1955</td>        <th>                     </th>     <td> </td>   \n",
       "</tr>\n",
       "</table>\n",
       "<table class=\"simpletable\">\n",
       "<tr>\n",
       "                  <td></td>                    <th>coef</th>     <th>std err</th>      <th>z</th>      <th>P>|z|</th>  <th>[0.025</th>    <th>0.975]</th>  \n",
       "</tr>\n",
       "<tr>\n",
       "  <th>const</th>                            <td>   -0.0964</td> <td>    0.708</td> <td>   -0.136</td> <td> 0.892</td> <td>   -1.484</td> <td>    1.292</td>\n",
       "</tr>\n",
       "<tr>\n",
       "  <th>ar.L1.D2.Thousands of Passengers</th> <td>   -0.5234</td> <td>    0.112</td> <td>   -4.670</td> <td> 0.000</td> <td>   -0.743</td> <td>   -0.304</td>\n",
       "</tr>\n",
       "<tr>\n",
       "  <th>ar.L2.D2.Thousands of Passengers</th> <td>   -0.5974</td> <td>    0.123</td> <td>   -4.839</td> <td> 0.000</td> <td>   -0.839</td> <td>   -0.355</td>\n",
       "</tr>\n",
       "<tr>\n",
       "  <th>ar.L3.D2.Thousands of Passengers</th> <td>   -0.4456</td> <td>    0.129</td> <td>   -3.446</td> <td> 0.001</td> <td>   -0.699</td> <td>   -0.192</td>\n",
       "</tr>\n",
       "<tr>\n",
       "  <th>ar.L4.D2.Thousands of Passengers</th> <td>   -0.5501</td> <td>    0.131</td> <td>   -4.210</td> <td> 0.000</td> <td>   -0.806</td> <td>   -0.294</td>\n",
       "</tr>\n",
       "<tr>\n",
       "  <th>ar.L5.D2.Thousands of Passengers</th> <td>   -0.2916</td> <td>    0.132</td> <td>   -2.215</td> <td> 0.027</td> <td>   -0.550</td> <td>   -0.034</td>\n",
       "</tr>\n",
       "<tr>\n",
       "  <th>ar.L6.D2.Thousands of Passengers</th> <td>   -0.1073</td> <td>    0.118</td> <td>   -0.910</td> <td> 0.363</td> <td>   -0.338</td> <td>    0.124</td>\n",
       "</tr>\n",
       "</table>\n",
       "<table class=\"simpletable\">\n",
       "<caption>Roots</caption>\n",
       "<tr>\n",
       "    <td></td>   <th>            Real</th>  <th>         Imaginary</th> <th>         Modulus</th>  <th>        Frequency</th>\n",
       "</tr>\n",
       "<tr>\n",
       "  <th>AR.1</th> <td>           0.6458</td> <td>          -0.9596j</td> <td>           1.1567</td> <td>          -0.1557</td>\n",
       "</tr>\n",
       "<tr>\n",
       "  <th>AR.2</th> <td>           0.6458</td> <td>          +0.9596j</td> <td>           1.1567</td> <td>           0.1557</td>\n",
       "</tr>\n",
       "<tr>\n",
       "  <th>AR.3</th> <td>          -0.7082</td> <td>          -1.3927j</td> <td>           1.5624</td> <td>          -0.3249</td>\n",
       "</tr>\n",
       "<tr>\n",
       "  <th>AR.4</th> <td>          -0.7082</td> <td>          +1.3927j</td> <td>           1.5624</td> <td>           0.3249</td>\n",
       "</tr>\n",
       "<tr>\n",
       "  <th>AR.5</th> <td>          -1.2963</td> <td>          -1.0830j</td> <td>           1.6892</td> <td>          -0.3892</td>\n",
       "</tr>\n",
       "<tr>\n",
       "  <th>AR.6</th> <td>          -1.2963</td> <td>          +1.0830j</td> <td>           1.6892</td> <td>           0.3892</td>\n",
       "</tr>\n",
       "</table>"
      ],
      "text/plain": [
       "<class 'statsmodels.iolib.summary.Summary'>\n",
       "\"\"\"\n",
       "                                 ARIMA Model Results                                  \n",
       "======================================================================================\n",
       "Dep. Variable:     D2.Thousands of Passengers   No. Observations:                   82\n",
       "Model:                         ARIMA(6, 2, 0)   Log Likelihood                -370.249\n",
       "Method:                               css-mle   S.D. of innovations             21.935\n",
       "Date:                        Sat, 26 Nov 2022   AIC                            756.499\n",
       "Time:                                23:05:43   BIC                            775.752\n",
       "Sample:                            03-01-1949   HQIC                           764.229\n",
       "                                 - 12-01-1955                                         \n",
       "====================================================================================================\n",
       "                                       coef    std err          z      P>|z|      [0.025      0.975]\n",
       "----------------------------------------------------------------------------------------------------\n",
       "const                               -0.0964      0.708     -0.136      0.892      -1.484       1.292\n",
       "ar.L1.D2.Thousands of Passengers    -0.5234      0.112     -4.670      0.000      -0.743      -0.304\n",
       "ar.L2.D2.Thousands of Passengers    -0.5974      0.123     -4.839      0.000      -0.839      -0.355\n",
       "ar.L3.D2.Thousands of Passengers    -0.4456      0.129     -3.446      0.001      -0.699      -0.192\n",
       "ar.L4.D2.Thousands of Passengers    -0.5501      0.131     -4.210      0.000      -0.806      -0.294\n",
       "ar.L5.D2.Thousands of Passengers    -0.2916      0.132     -2.215      0.027      -0.550      -0.034\n",
       "ar.L6.D2.Thousands of Passengers    -0.1073      0.118     -0.910      0.363      -0.338       0.124\n",
       "                                    Roots                                    \n",
       "=============================================================================\n",
       "                  Real          Imaginary           Modulus         Frequency\n",
       "-----------------------------------------------------------------------------\n",
       "AR.1            0.6458           -0.9596j            1.1567           -0.1557\n",
       "AR.2            0.6458           +0.9596j            1.1567            0.1557\n",
       "AR.3           -0.7082           -1.3927j            1.5624           -0.3249\n",
       "AR.4           -0.7082           +1.3927j            1.5624            0.3249\n",
       "AR.5           -1.2963           -1.0830j            1.6892           -0.3892\n",
       "AR.6           -1.2963           +1.0830j            1.6892            0.3892\n",
       "-----------------------------------------------------------------------------\n",
       "\"\"\""
      ]
     },
     "execution_count": 87,
     "metadata": {},
     "output_type": "execute_result"
    }
   ],
   "source": [
    "model_ar.summary()"
   ]
  },
  {
   "cell_type": "code",
   "execution_count": 88,
   "id": "47ca537b",
   "metadata": {},
   "outputs": [],
   "source": [
    "pred_start_date = test_data.index[0]\n",
    "pred_end_date = test_data.index[-1]"
   ]
  },
  {
   "cell_type": "code",
   "execution_count": 81,
   "id": "000acc70",
   "metadata": {},
   "outputs": [],
   "source": [
    "pred = model_ar.predict(start = pred_start_date, end = pred_end_date)"
   ]
  },
  {
   "cell_type": "code",
   "execution_count": 82,
   "id": "cfb443b7",
   "metadata": {},
   "outputs": [],
   "source": [
    "residuals = test_data['Thousands of Passengers'] - pred"
   ]
  },
  {
   "cell_type": "code",
   "execution_count": 83,
   "id": "f68d466c",
   "metadata": {},
   "outputs": [
    {
     "data": {
      "text/plain": [
       "1956-01-01   -11.707539\n",
       "1956-02-01   -27.273291\n",
       "1956-03-01   -11.572103\n",
       "1956-04-01   -15.651213\n",
       "1956-05-01    10.508909\n",
       "1956-06-01    18.715745\n",
       "1956-07-01     6.136946\n",
       "1956-08-01    -4.503851\n",
       "1956-09-01    -9.963628\n",
       "1956-10-01    -6.848906\n",
       "1956-11-01     1.244127\n",
       "1956-12-01     6.221565\n",
       "1957-01-01     4.849644\n",
       "1957-02-01     0.008035\n",
       "1957-03-01    -3.630903\n",
       "1957-04-01    -3.654830\n",
       "1957-05-01    -0.875912\n",
       "1957-06-01     1.834940\n",
       "1957-07-01     2.327467\n",
       "1957-08-01     0.805619\n",
       "1957-09-01    -1.031414\n",
       "1957-10-01    -1.679289\n",
       "1957-11-01    -0.924170\n",
       "1957-12-01     0.288979\n",
       "1958-01-01     0.893124\n",
       "1958-02-01     0.571051\n",
       "1958-03-01    -0.191279\n",
       "1958-04-01    -0.687142\n",
       "1958-05-01    -0.595792\n",
       "1958-06-01    -0.136819\n",
       "1958-07-01     0.237815\n",
       "1958-08-01     0.256468\n",
       "1958-09-01    -0.005497\n",
       "1958-10-01    -0.272396\n",
       "1958-11-01    -0.334246\n",
       "1958-12-01    -0.194440\n",
       "1959-01-01    -0.013253\n",
       "1959-02-01     0.057169\n",
       "1959-03-01    -0.010272\n",
       "1959-04-01    -0.128022\n",
       "1959-05-01    -0.191289\n",
       "1959-06-01    -0.164353\n",
       "1959-07-01    -0.091058\n",
       "1959-08-01    -0.040433\n",
       "1959-09-01    -0.046344\n",
       "1959-10-01    -0.089891\n",
       "1959-11-01    -0.127514\n",
       "1959-12-01    -0.131286\n",
       "1960-01-01    -0.106805\n",
       "1960-02-01    -0.080351\n",
       "1960-03-01    -0.073112\n",
       "1960-04-01    -0.085895\n",
       "1960-05-01    -0.103648\n",
       "1960-06-01    -0.111232\n",
       "1960-07-01    -0.105283\n",
       "1960-08-01    -0.093872\n",
       "1960-09-01    -0.087302\n",
       "1960-10-01    -0.089488\n",
       "1960-11-01    -0.096510\n",
       "1960-12-01    -0.101655\n",
       "Freq: MS, dtype: float64"
      ]
     },
     "execution_count": 83,
     "metadata": {},
     "output_type": "execute_result"
    }
   ],
   "source": [
    "pred"
   ]
  },
  {
   "cell_type": "code",
   "execution_count": 84,
   "id": "d5c559ea",
   "metadata": {},
   "outputs": [
    {
     "data": {
      "text/plain": [
       "Month\n",
       "1956-01-01    295.707539\n",
       "1956-02-01    304.273291\n",
       "1956-03-01    328.572103\n",
       "1956-04-01    328.651213\n",
       "1956-05-01    307.491091\n",
       "1956-06-01    355.284255\n",
       "1956-07-01    406.863054\n",
       "1956-08-01    409.503851\n",
       "1956-09-01    364.963628\n",
       "1956-10-01    312.848906\n",
       "1956-11-01    269.755873\n",
       "1956-12-01    299.778435\n",
       "1957-01-01    310.150356\n",
       "1957-02-01    300.991965\n",
       "1957-03-01    359.630903\n",
       "1957-04-01    351.654830\n",
       "1957-05-01    355.875912\n",
       "1957-06-01    420.165060\n",
       "1957-07-01    462.672533\n",
       "1957-08-01    466.194381\n",
       "1957-09-01    405.031414\n",
       "1957-10-01    348.679289\n",
       "1957-11-01    305.924170\n",
       "1957-12-01    335.711021\n",
       "1958-01-01    339.106876\n",
       "1958-02-01    317.428949\n",
       "1958-03-01    362.191279\n",
       "1958-04-01    348.687142\n",
       "1958-05-01    363.595792\n",
       "1958-06-01    435.136819\n",
       "1958-07-01    490.762185\n",
       "1958-08-01    504.743532\n",
       "1958-09-01    404.005497\n",
       "1958-10-01    359.272396\n",
       "1958-11-01    310.334246\n",
       "1958-12-01    337.194440\n",
       "1959-01-01    360.013253\n",
       "1959-02-01    341.942831\n",
       "1959-03-01    406.010272\n",
       "1959-04-01    396.128022\n",
       "1959-05-01    420.191289\n",
       "1959-06-01    472.164353\n",
       "1959-07-01    548.091058\n",
       "1959-08-01    559.040433\n",
       "1959-09-01    463.046344\n",
       "1959-10-01    407.089891\n",
       "1959-11-01    362.127514\n",
       "1959-12-01    405.131286\n",
       "1960-01-01    417.106805\n",
       "1960-02-01    391.080351\n",
       "1960-03-01    419.073112\n",
       "1960-04-01    461.085895\n",
       "1960-05-01    472.103648\n",
       "1960-06-01    535.111232\n",
       "1960-07-01    622.105283\n",
       "1960-08-01    606.093872\n",
       "1960-09-01    508.087302\n",
       "1960-10-01    461.089488\n",
       "1960-11-01    390.096510\n",
       "1960-12-01    432.101655\n",
       "dtype: float64"
      ]
     },
     "execution_count": 84,
     "metadata": {},
     "output_type": "execute_result"
    }
   ],
   "source": [
    "residuals"
   ]
  },
  {
   "cell_type": "code",
   "execution_count": 74,
   "id": "ef1e92a2",
   "metadata": {},
   "outputs": [
    {
     "data": {
      "text/plain": [
       "<AxesSubplot:ylabel='Density'>"
      ]
     },
     "execution_count": 74,
     "metadata": {},
     "output_type": "execute_result"
    },
    {
     "data": {
      "image/png": "[encoded data removed]",
      "text/plain": [
       "<Figure size 432x288 with 1 Axes>"
      ]
     },
     "metadata": {
      "needs_background": "light"
     },
     "output_type": "display_data"
    }
   ],
   "source": [
    "model_ar.resid.plot(kind = 'kde')"
   ]
  },
  {
   "cell_type": "code",
   "execution_count": 75,
   "id": "5defe0bd",
   "metadata": {},
   "outputs": [
    {
     "name": "stderr",
     "output_type": "stream",
     "text": [
      "C:\\Users\\sjasm\\AppData\\Local\\Temp\\ipykernel_5904\\3567221013.py:1: SettingWithCopyWarning: \n",
      "A value is trying to be set on a copy of a slice from a DataFrame.\n",
      "Try using .loc[row_indexer,col_indexer] = value instead\n",
      "\n",
      "See the caveats in the documentation: https://pandas.pydata.org/pandas-docs/stable/user_guide/indexing.html#returning-a-view-versus-a-copy\n",
      "  test_data['Predicted'] = pred\n"
     ]
    }
   ],
   "source": [
    "test_data['Predicted'] = pred"
   ]
  },
  {
   "cell_type": "code",
   "execution_count": 76,
   "id": "e3b1e59a",
   "metadata": {},
   "outputs": [
    {
     "data": {
      "text/plain": [
       "<AxesSubplot:xlabel='Month'>"
      ]
     },
     "execution_count": 76,
     "metadata": {},
     "output_type": "execute_result"
    },
    {
     "data": {
      "image/png": "[encoded data removed]",
      "text/plain": [
       "<Figure size 864x432 with 1 Axes>"
      ]
     },
     "metadata": {
      "needs_background": "light"
     },
     "output_type": "display_data"
    }
   ],
   "source": [
    "test_data[['Thousands of Passengers', 'Predicted']].plot(figsize = (12,6))"
   ]
  },
  {
   "cell_type": "code",
   "execution_count": null,
   "id": "57d0b890",
   "metadata": {},
   "outputs": [],
   "source": []
  }
 ],
 "metadata": {
  "kernelspec": {
   "display_name": "Python 3 (ipykernel)",
   "language": "python",
   "name": "python3"
  },
  "language_info": {
   "codemirror_mode": {
    "name": "ipython",
    "version": 3
   },
   "file_extension": ".py",
   "mimetype": "text/x-python",
   "name": "python",
   "nbconvert_exporter": "python",
   "pygments_lexer": "ipython3",
   "version": "3.8.8"
  }
 },
 "nbformat": 4,
 "nbformat_minor": 5
}
