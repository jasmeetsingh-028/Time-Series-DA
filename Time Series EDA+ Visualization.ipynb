{
 "cells": [
  {
   "cell_type": "code",
   "execution_count": 1,
   "id": "eb5d7b15",
   "metadata": {},
   "outputs": [],
   "source": [
    "## INSTALL PANDAS DATA READER\n",
    "\n",
    "#!pip install pandas-datareader"
   ]
  },
  {
   "cell_type": "code",
   "execution_count": 2,
   "id": "df813517",
   "metadata": {},
   "outputs": [
    {
     "name": "stderr",
     "output_type": "stream",
     "text": [
      "C:\\Users\\sjasm\\anaconda3\\lib\\site-packages\\numpy\\_distributor_init.py:30: UserWarning: loaded more than 1 DLL from .libs:\n",
      "C:\\Users\\sjasm\\anaconda3\\lib\\site-packages\\numpy\\.libs\\libopenblas.PYQHXLVVQ7VESDPUVUADXEVJOBGHJPAY.gfortran-win_amd64.dll\n",
      "C:\\Users\\sjasm\\anaconda3\\lib\\site-packages\\numpy\\.libs\\libopenblas.WCDJNK7YVMPZQ2ME2ZZHJJRJ3JIKNDB7.gfortran-win_amd64.dll\n",
      "  warnings.warn(\"loaded more than 1 DLL from .libs:\\n%s\" %\n"
     ]
    }
   ],
   "source": [
    "import pandas_datareader as pdr\n",
    "import pandas as pd\n",
    "from datetime import datetime"
   ]
  },
  {
   "cell_type": "code",
   "execution_count": 53,
   "id": "6f545d96",
   "metadata": {},
   "outputs": [],
   "source": [
    "#without any api key\n",
    "\n",
    "df_tesla = pdr.get_data_yahoo('TSLA')\n",
    "\n",
    "#FROM TODAY TILL PAST 5 YEARS"
   ]
  },
  {
   "cell_type": "code",
   "execution_count": 54,
   "id": "ea6dfb3d",
   "metadata": {},
   "outputs": [
    {
     "data": {
      "text/html": [
       "<div>\n",
       "<style scoped>\n",
       "    .dataframe tbody tr th:only-of-type {\n",
       "        vertical-align: middle;\n",
       "    }\n",
       "\n",
       "    .dataframe tbody tr th {\n",
       "        vertical-align: top;\n",
       "    }\n",
       "\n",
       "    .dataframe thead th {\n",
       "        text-align: right;\n",
       "    }\n",
       "</style>\n",
       "<table border=\"1\" class=\"dataframe\">\n",
       "  <thead>\n",
       "    <tr style=\"text-align: right;\">\n",
       "      <th></th>\n",
       "      <th>High</th>\n",
       "      <th>Low</th>\n",
       "      <th>Open</th>\n",
       "      <th>Close</th>\n",
       "      <th>Volume</th>\n",
       "      <th>Adj Close</th>\n",
       "    </tr>\n",
       "    <tr>\n",
       "      <th>Date</th>\n",
       "      <th></th>\n",
       "      <th></th>\n",
       "      <th></th>\n",
       "      <th></th>\n",
       "      <th></th>\n",
       "      <th></th>\n",
       "    </tr>\n",
       "  </thead>\n",
       "  <tbody>\n",
       "    <tr>\n",
       "      <th>2017-11-24</th>\n",
       "      <td>21.094000</td>\n",
       "      <td>20.733334</td>\n",
       "      <td>20.919333</td>\n",
       "      <td>21.036667</td>\n",
       "      <td>48661500.0</td>\n",
       "      <td>21.036667</td>\n",
       "    </tr>\n",
       "    <tr>\n",
       "      <th>2017-11-27</th>\n",
       "      <td>21.156000</td>\n",
       "      <td>20.634001</td>\n",
       "      <td>20.883333</td>\n",
       "      <td>21.120667</td>\n",
       "      <td>68338500.0</td>\n",
       "      <td>21.120667</td>\n",
       "    </tr>\n",
       "    <tr>\n",
       "      <th>2017-11-28</th>\n",
       "      <td>21.333332</td>\n",
       "      <td>20.927999</td>\n",
       "      <td>21.090668</td>\n",
       "      <td>21.170000</td>\n",
       "      <td>74242500.0</td>\n",
       "      <td>21.170000</td>\n",
       "    </tr>\n",
       "    <tr>\n",
       "      <th>2017-11-29</th>\n",
       "      <td>21.200001</td>\n",
       "      <td>20.082001</td>\n",
       "      <td>21.153334</td>\n",
       "      <td>20.502666</td>\n",
       "      <td>131511000.0</td>\n",
       "      <td>20.502666</td>\n",
       "    </tr>\n",
       "    <tr>\n",
       "      <th>2017-11-30</th>\n",
       "      <td>20.713333</td>\n",
       "      <td>20.302668</td>\n",
       "      <td>20.570667</td>\n",
       "      <td>20.590000</td>\n",
       "      <td>65274000.0</td>\n",
       "      <td>20.590000</td>\n",
       "    </tr>\n",
       "  </tbody>\n",
       "</table>\n",
       "</div>"
      ],
      "text/plain": [
       "                 High        Low       Open      Close       Volume  Adj Close\n",
       "Date                                                                          \n",
       "2017-11-24  21.094000  20.733334  20.919333  21.036667   48661500.0  21.036667\n",
       "2017-11-27  21.156000  20.634001  20.883333  21.120667   68338500.0  21.120667\n",
       "2017-11-28  21.333332  20.927999  21.090668  21.170000   74242500.0  21.170000\n",
       "2017-11-29  21.200001  20.082001  21.153334  20.502666  131511000.0  20.502666\n",
       "2017-11-30  20.713333  20.302668  20.570667  20.590000   65274000.0  20.590000"
      ]
     },
     "execution_count": 54,
     "metadata": {},
     "output_type": "execute_result"
    }
   ],
   "source": [
    "df_tesla.head()"
   ]
  },
  {
   "cell_type": "code",
   "execution_count": 55,
   "id": "d0e90c2b",
   "metadata": {},
   "outputs": [
    {
     "data": {
      "text/plain": [
       "<AxesSubplot:xlabel='Date'>"
      ]
     },
     "execution_count": 55,
     "metadata": {},
     "output_type": "execute_result"
    },
    {
     "data": {
      "image/png": "[encoded data removed]",
      "text/plain": [
       "<Figure size 864x288 with 1 Axes>"
      ]
     },
     "metadata": {
      "needs_background": "light"
     },
     "output_type": "display_data"
    }
   ],
   "source": [
    "df_tesla['High'].plot(figsize= (12,4))"
   ]
  },
  {
   "cell_type": "code",
   "execution_count": 56,
   "id": "2f61741b",
   "metadata": {},
   "outputs": [
    {
     "data": {
      "text/plain": [
       "<AxesSubplot:xlabel='Date'>"
      ]
     },
     "execution_count": 56,
     "metadata": {},
     "output_type": "execute_result"
    },
    {
     "data": {
      "image/png": "[encoded data removed]",
      "text/plain": [
       "<Figure size 864x288 with 1 Axes>"
      ]
     },
     "metadata": {
      "needs_background": "light"
     },
     "output_type": "display_data"
    }
   ],
   "source": [
    "## x limits and y limits\n",
    "\n",
    "df_tesla['High'].plot(xlim = ['2020-01-01', '2021-09-01'],  figsize= (12,4))"
   ]
  },
  {
   "cell_type": "code",
   "execution_count": 57,
   "id": "7fe2ebac",
   "metadata": {},
   "outputs": [
    {
     "data": {
      "text/plain": [
       "<AxesSubplot:xlabel='Date'>"
      ]
     },
     "execution_count": 57,
     "metadata": {},
     "output_type": "execute_result"
    },
    {
     "data": {
      "image/png": "[encoded data removed]",
      "text/plain": [
       "<Figure size 864x288 with 1 Axes>"
      ]
     },
     "metadata": {
      "needs_background": "light"
     },
     "output_type": "display_data"
    }
   ],
   "source": [
    "#y limit\n",
    "\n",
    "df_tesla['High'].plot(xlim = ['2020-01-01', '2021-09-01'], ylim =[0,300], figsize= (12,4),ls ='--' ,c = 'green')"
   ]
  },
  {
   "cell_type": "code",
   "execution_count": 58,
   "id": "d472fcf5",
   "metadata": {},
   "outputs": [
    {
     "data": {
      "text/plain": [
       "DatetimeIndex(['2017-11-24', '2017-11-27', '2017-11-28', '2017-11-29',\n",
       "               '2017-11-30', '2017-12-01', '2017-12-04', '2017-12-05',\n",
       "               '2017-12-06', '2017-12-07',\n",
       "               ...\n",
       "               '2022-11-10', '2022-11-11', '2022-11-14', '2022-11-15',\n",
       "               '2022-11-16', '2022-11-17', '2022-11-18', '2022-11-21',\n",
       "               '2022-11-22', '2022-11-23'],\n",
       "              dtype='datetime64[ns]', name='Date', length=1259, freq=None)"
      ]
     },
     "execution_count": 58,
     "metadata": {},
     "output_type": "execute_result"
    }
   ],
   "source": [
    "df_tesla.index   #we get the dates"
   ]
  },
  {
   "cell_type": "code",
   "execution_count": 59,
   "id": "42f590b3",
   "metadata": {},
   "outputs": [
    {
     "data": {
      "text/html": [
       "<div>\n",
       "<style scoped>\n",
       "    .dataframe tbody tr th:only-of-type {\n",
       "        vertical-align: middle;\n",
       "    }\n",
       "\n",
       "    .dataframe tbody tr th {\n",
       "        vertical-align: top;\n",
       "    }\n",
       "\n",
       "    .dataframe thead th {\n",
       "        text-align: right;\n",
       "    }\n",
       "</style>\n",
       "<table border=\"1\" class=\"dataframe\">\n",
       "  <thead>\n",
       "    <tr style=\"text-align: right;\">\n",
       "      <th></th>\n",
       "      <th>High</th>\n",
       "      <th>Low</th>\n",
       "      <th>Open</th>\n",
       "      <th>Close</th>\n",
       "      <th>Volume</th>\n",
       "      <th>Adj Close</th>\n",
       "    </tr>\n",
       "    <tr>\n",
       "      <th>Date</th>\n",
       "      <th></th>\n",
       "      <th></th>\n",
       "      <th></th>\n",
       "      <th></th>\n",
       "      <th></th>\n",
       "      <th></th>\n",
       "    </tr>\n",
       "  </thead>\n",
       "  <tbody>\n",
       "    <tr>\n",
       "      <th>2017-11-24</th>\n",
       "      <td>21.094000</td>\n",
       "      <td>20.733334</td>\n",
       "      <td>20.919333</td>\n",
       "      <td>21.036667</td>\n",
       "      <td>48661500.0</td>\n",
       "      <td>21.036667</td>\n",
       "    </tr>\n",
       "    <tr>\n",
       "      <th>2017-11-27</th>\n",
       "      <td>21.156000</td>\n",
       "      <td>20.634001</td>\n",
       "      <td>20.883333</td>\n",
       "      <td>21.120667</td>\n",
       "      <td>68338500.0</td>\n",
       "      <td>21.120667</td>\n",
       "    </tr>\n",
       "    <tr>\n",
       "      <th>2017-11-28</th>\n",
       "      <td>21.333332</td>\n",
       "      <td>20.927999</td>\n",
       "      <td>21.090668</td>\n",
       "      <td>21.170000</td>\n",
       "      <td>74242500.0</td>\n",
       "      <td>21.170000</td>\n",
       "    </tr>\n",
       "    <tr>\n",
       "      <th>2017-11-29</th>\n",
       "      <td>21.200001</td>\n",
       "      <td>20.082001</td>\n",
       "      <td>21.153334</td>\n",
       "      <td>20.502666</td>\n",
       "      <td>131511000.0</td>\n",
       "      <td>20.502666</td>\n",
       "    </tr>\n",
       "  </tbody>\n",
       "</table>\n",
       "</div>"
      ],
      "text/plain": [
       "                 High        Low       Open      Close       Volume  Adj Close\n",
       "Date                                                                          \n",
       "2017-11-24  21.094000  20.733334  20.919333  21.036667   48661500.0  21.036667\n",
       "2017-11-27  21.156000  20.634001  20.883333  21.120667   68338500.0  21.120667\n",
       "2017-11-28  21.333332  20.927999  21.090668  21.170000   74242500.0  21.170000\n",
       "2017-11-29  21.200001  20.082001  21.153334  20.502666  131511000.0  20.502666"
      ]
     },
     "execution_count": 59,
     "metadata": {},
     "output_type": "execute_result"
    }
   ],
   "source": [
    "## read first four rows\n",
    "df_tesla[:4]"
   ]
  },
  {
   "cell_type": "code",
   "execution_count": 60,
   "id": "a3ebf0fa",
   "metadata": {},
   "outputs": [
    {
     "data": {
      "text/html": [
       "<div>\n",
       "<style scoped>\n",
       "    .dataframe tbody tr th:only-of-type {\n",
       "        vertical-align: middle;\n",
       "    }\n",
       "\n",
       "    .dataframe tbody tr th {\n",
       "        vertical-align: top;\n",
       "    }\n",
       "\n",
       "    .dataframe thead th {\n",
       "        text-align: right;\n",
       "    }\n",
       "</style>\n",
       "<table border=\"1\" class=\"dataframe\">\n",
       "  <thead>\n",
       "    <tr style=\"text-align: right;\">\n",
       "      <th></th>\n",
       "      <th>High</th>\n",
       "      <th>Low</th>\n",
       "      <th>Open</th>\n",
       "      <th>Close</th>\n",
       "      <th>Volume</th>\n",
       "      <th>Adj Close</th>\n",
       "    </tr>\n",
       "    <tr>\n",
       "      <th>Date</th>\n",
       "      <th></th>\n",
       "      <th></th>\n",
       "      <th></th>\n",
       "      <th></th>\n",
       "      <th></th>\n",
       "      <th></th>\n",
       "    </tr>\n",
       "  </thead>\n",
       "  <tbody>\n",
       "    <tr>\n",
       "      <th>2017-11-24</th>\n",
       "      <td>21.094000</td>\n",
       "      <td>20.733334</td>\n",
       "      <td>20.919333</td>\n",
       "      <td>21.036667</td>\n",
       "      <td>48661500.0</td>\n",
       "      <td>21.036667</td>\n",
       "    </tr>\n",
       "    <tr>\n",
       "      <th>2017-11-27</th>\n",
       "      <td>21.156000</td>\n",
       "      <td>20.634001</td>\n",
       "      <td>20.883333</td>\n",
       "      <td>21.120667</td>\n",
       "      <td>68338500.0</td>\n",
       "      <td>21.120667</td>\n",
       "    </tr>\n",
       "    <tr>\n",
       "      <th>2017-11-28</th>\n",
       "      <td>21.333332</td>\n",
       "      <td>20.927999</td>\n",
       "      <td>21.090668</td>\n",
       "      <td>21.170000</td>\n",
       "      <td>74242500.0</td>\n",
       "      <td>21.170000</td>\n",
       "    </tr>\n",
       "    <tr>\n",
       "      <th>2017-11-29</th>\n",
       "      <td>21.200001</td>\n",
       "      <td>20.082001</td>\n",
       "      <td>21.153334</td>\n",
       "      <td>20.502666</td>\n",
       "      <td>131511000.0</td>\n",
       "      <td>20.502666</td>\n",
       "    </tr>\n",
       "  </tbody>\n",
       "</table>\n",
       "</div>"
      ],
      "text/plain": [
       "                 High        Low       Open      Close       Volume  Adj Close\n",
       "Date                                                                          \n",
       "2017-11-24  21.094000  20.733334  20.919333  21.036667   48661500.0  21.036667\n",
       "2017-11-27  21.156000  20.634001  20.883333  21.120667   68338500.0  21.120667\n",
       "2017-11-28  21.333332  20.927999  21.090668  21.170000   74242500.0  21.170000\n",
       "2017-11-29  21.200001  20.082001  21.153334  20.502666  131511000.0  20.502666"
      ]
     },
     "execution_count": 60,
     "metadata": {},
     "output_type": "execute_result"
    }
   ],
   "source": [
    "df_tesla.loc[\"2017-11-24\": \"2017-11-29\"]"
   ]
  },
  {
   "cell_type": "code",
   "execution_count": 61,
   "id": "00228f43",
   "metadata": {},
   "outputs": [
    {
     "data": {
      "text/plain": [
       "DatetimeIndex(['2017-11-24', '2017-11-27', '2017-11-28', '2017-11-29'], dtype='datetime64[ns]', name='Date', freq=None)"
      ]
     },
     "execution_count": 61,
     "metadata": {},
     "output_type": "execute_result"
    }
   ],
   "source": [
    "df_tesla.loc[\"2017-11-24\": \"2017-11-29\"].index"
   ]
  },
  {
   "cell_type": "code",
   "execution_count": 62,
   "id": "b29ba2a1",
   "metadata": {},
   "outputs": [],
   "source": [
    "share_open = df_tesla.loc[\"2017-11-24\": \"2021-09-01\"]['Open']"
   ]
  },
  {
   "cell_type": "code",
   "execution_count": 63,
   "id": "9eb89ea2",
   "metadata": {},
   "outputs": [
    {
     "data": {
      "text/plain": [
       "Date\n",
       "2017-11-24     20.919333\n",
       "2017-11-27     20.883333\n",
       "2017-11-28     21.090668\n",
       "2017-11-29     21.153334\n",
       "2017-11-30     20.570667\n",
       "                 ...    \n",
       "2021-08-26    236.103333\n",
       "2021-08-27    235.000000\n",
       "2021-08-30    238.240005\n",
       "2021-08-31    244.333328\n",
       "2021-09-01    244.693329\n",
       "Name: Open, Length: 949, dtype: float64"
      ]
     },
     "execution_count": 63,
     "metadata": {},
     "output_type": "execute_result"
    }
   ],
   "source": [
    "share_open"
   ]
  },
  {
   "cell_type": "code",
   "execution_count": 64,
   "id": "d5d72f9f",
   "metadata": {},
   "outputs": [],
   "source": [
    "index =  df_tesla.loc[\"2017-11-24\": \"2021-09-01\"]['Open'].index"
   ]
  },
  {
   "cell_type": "code",
   "execution_count": 65,
   "id": "62d1a520",
   "metadata": {},
   "outputs": [],
   "source": [
    "import matplotlib.pyplot as plt\n",
    "%matplotlib inline"
   ]
  },
  {
   "cell_type": "code",
   "execution_count": 66,
   "id": "af112ca4",
   "metadata": {},
   "outputs": [
    {
     "data": {
      "text/plain": [
       "[<matplotlib.lines.Line2D at 0x25b83befe50>]"
      ]
     },
     "execution_count": 66,
     "metadata": {},
     "output_type": "execute_result"
    },
    {
     "data": {
      "image/png": "[encoded data removed]",
      "text/plain": [
       "<Figure size 432x288 with 1 Axes>"
      ]
     },
     "metadata": {
      "needs_background": "light"
     },
     "output_type": "display_data"
    }
   ],
   "source": [
    "figure, ax = plt.subplots()\n",
    "ax.plot(index, share_open)"
   ]
  },
  {
   "cell_type": "code",
   "execution_count": 67,
   "id": "b3025de4",
   "metadata": {},
   "outputs": [
    {
     "data": {
      "text/plain": [
       "[<matplotlib.lines.Line2D at 0x25b83cc48e0>]"
      ]
     },
     "execution_count": 67,
     "metadata": {},
     "output_type": "execute_result"
    },
    {
     "data": {
      "image/png": "[encoded data removed]",
      "text/plain": [
       "<Figure size 432x288 with 1 Axes>"
      ]
     },
     "metadata": {
      "needs_background": "light"
     },
     "output_type": "display_data"
    }
   ],
   "source": [
    "##overcome label overlapping in matplotlib\n",
    "\n",
    "figure, ax = plt.subplots()\n",
    "plt.tight_layout()\n",
    "ax.plot(index, share_open)"
   ]
  },
  {
   "cell_type": "code",
   "execution_count": 68,
   "id": "68bf364c",
   "metadata": {},
   "outputs": [
    {
     "data": {
      "text/plain": [
       "[<matplotlib.lines.Line2D at 0x25b83865c40>]"
      ]
     },
     "execution_count": 68,
     "metadata": {},
     "output_type": "execute_result"
    },
    {
     "data": {
      "image/png": "[encoded data removed]",
      "text/plain": [
       "<Figure size 432x288 with 1 Axes>"
      ]
     },
     "metadata": {
      "needs_background": "light"
     },
     "output_type": "display_data"
    }
   ],
   "source": [
    "figure, ax = plt.subplots()\n",
    "plt.tight_layout()\n",
    "figure.autofmt_xdate()\n",
    "ax.plot(index, share_open)"
   ]
  },
  {
   "cell_type": "markdown",
   "id": "842f50cc",
   "metadata": {},
   "source": [
    "## Date time indexing"
   ]
  },
  {
   "cell_type": "code",
   "execution_count": 69,
   "id": "812240c1",
   "metadata": {},
   "outputs": [
    {
     "name": "stdout",
     "output_type": "stream",
     "text": [
      "<class 'pandas.core.frame.DataFrame'>\n",
      "DatetimeIndex: 1259 entries, 2017-11-24 to 2022-11-23\n",
      "Data columns (total 6 columns):\n",
      " #   Column     Non-Null Count  Dtype  \n",
      "---  ------     --------------  -----  \n",
      " 0   High       1259 non-null   float64\n",
      " 1   Low        1259 non-null   float64\n",
      " 2   Open       1259 non-null   float64\n",
      " 3   Close      1259 non-null   float64\n",
      " 4   Volume     1259 non-null   float64\n",
      " 5   Adj Close  1259 non-null   float64\n",
      "dtypes: float64(6)\n",
      "memory usage: 101.1 KB\n"
     ]
    }
   ],
   "source": [
    "df_tesla.info()"
   ]
  },
  {
   "cell_type": "code",
   "execution_count": 70,
   "id": "3db8e5b9",
   "metadata": {},
   "outputs": [
    {
     "data": {
      "text/html": [
       "<div>\n",
       "<style scoped>\n",
       "    .dataframe tbody tr th:only-of-type {\n",
       "        vertical-align: middle;\n",
       "    }\n",
       "\n",
       "    .dataframe tbody tr th {\n",
       "        vertical-align: top;\n",
       "    }\n",
       "\n",
       "    .dataframe thead th {\n",
       "        text-align: right;\n",
       "    }\n",
       "</style>\n",
       "<table border=\"1\" class=\"dataframe\">\n",
       "  <thead>\n",
       "    <tr style=\"text-align: right;\">\n",
       "      <th></th>\n",
       "      <th>Date</th>\n",
       "      <th>High</th>\n",
       "      <th>Low</th>\n",
       "      <th>Open</th>\n",
       "      <th>Close</th>\n",
       "      <th>Volume</th>\n",
       "      <th>Adj Close</th>\n",
       "    </tr>\n",
       "  </thead>\n",
       "  <tbody>\n",
       "    <tr>\n",
       "      <th>0</th>\n",
       "      <td>2017-11-24</td>\n",
       "      <td>21.094000</td>\n",
       "      <td>20.733334</td>\n",
       "      <td>20.919333</td>\n",
       "      <td>21.036667</td>\n",
       "      <td>48661500.0</td>\n",
       "      <td>21.036667</td>\n",
       "    </tr>\n",
       "    <tr>\n",
       "      <th>1</th>\n",
       "      <td>2017-11-27</td>\n",
       "      <td>21.156000</td>\n",
       "      <td>20.634001</td>\n",
       "      <td>20.883333</td>\n",
       "      <td>21.120667</td>\n",
       "      <td>68338500.0</td>\n",
       "      <td>21.120667</td>\n",
       "    </tr>\n",
       "    <tr>\n",
       "      <th>2</th>\n",
       "      <td>2017-11-28</td>\n",
       "      <td>21.333332</td>\n",
       "      <td>20.927999</td>\n",
       "      <td>21.090668</td>\n",
       "      <td>21.170000</td>\n",
       "      <td>74242500.0</td>\n",
       "      <td>21.170000</td>\n",
       "    </tr>\n",
       "    <tr>\n",
       "      <th>3</th>\n",
       "      <td>2017-11-29</td>\n",
       "      <td>21.200001</td>\n",
       "      <td>20.082001</td>\n",
       "      <td>21.153334</td>\n",
       "      <td>20.502666</td>\n",
       "      <td>131511000.0</td>\n",
       "      <td>20.502666</td>\n",
       "    </tr>\n",
       "    <tr>\n",
       "      <th>4</th>\n",
       "      <td>2017-11-30</td>\n",
       "      <td>20.713333</td>\n",
       "      <td>20.302668</td>\n",
       "      <td>20.570667</td>\n",
       "      <td>20.590000</td>\n",
       "      <td>65274000.0</td>\n",
       "      <td>20.590000</td>\n",
       "    </tr>\n",
       "    <tr>\n",
       "      <th>...</th>\n",
       "      <td>...</td>\n",
       "      <td>...</td>\n",
       "      <td>...</td>\n",
       "      <td>...</td>\n",
       "      <td>...</td>\n",
       "      <td>...</td>\n",
       "      <td>...</td>\n",
       "    </tr>\n",
       "    <tr>\n",
       "      <th>1254</th>\n",
       "      <td>2022-11-17</td>\n",
       "      <td>186.160004</td>\n",
       "      <td>180.899994</td>\n",
       "      <td>183.960007</td>\n",
       "      <td>183.169998</td>\n",
       "      <td>64336000.0</td>\n",
       "      <td>183.169998</td>\n",
       "    </tr>\n",
       "    <tr>\n",
       "      <th>1255</th>\n",
       "      <td>2022-11-18</td>\n",
       "      <td>185.190002</td>\n",
       "      <td>176.550003</td>\n",
       "      <td>185.050003</td>\n",
       "      <td>180.190002</td>\n",
       "      <td>75904900.0</td>\n",
       "      <td>180.190002</td>\n",
       "    </tr>\n",
       "    <tr>\n",
       "      <th>1256</th>\n",
       "      <td>2022-11-21</td>\n",
       "      <td>176.770004</td>\n",
       "      <td>167.539993</td>\n",
       "      <td>175.850006</td>\n",
       "      <td>167.869995</td>\n",
       "      <td>92882700.0</td>\n",
       "      <td>167.869995</td>\n",
       "    </tr>\n",
       "    <tr>\n",
       "      <th>1257</th>\n",
       "      <td>2022-11-22</td>\n",
       "      <td>170.919998</td>\n",
       "      <td>166.190002</td>\n",
       "      <td>168.630005</td>\n",
       "      <td>169.910004</td>\n",
       "      <td>78452300.0</td>\n",
       "      <td>169.910004</td>\n",
       "    </tr>\n",
       "    <tr>\n",
       "      <th>1258</th>\n",
       "      <td>2022-11-23</td>\n",
       "      <td>183.619995</td>\n",
       "      <td>172.500000</td>\n",
       "      <td>173.570007</td>\n",
       "      <td>183.188293</td>\n",
       "      <td>99652261.0</td>\n",
       "      <td>183.188293</td>\n",
       "    </tr>\n",
       "  </tbody>\n",
       "</table>\n",
       "<p>1259 rows × 7 columns</p>\n",
       "</div>"
      ],
      "text/plain": [
       "           Date        High         Low        Open       Close       Volume  \\\n",
       "0    2017-11-24   21.094000   20.733334   20.919333   21.036667   48661500.0   \n",
       "1    2017-11-27   21.156000   20.634001   20.883333   21.120667   68338500.0   \n",
       "2    2017-11-28   21.333332   20.927999   21.090668   21.170000   74242500.0   \n",
       "3    2017-11-29   21.200001   20.082001   21.153334   20.502666  131511000.0   \n",
       "4    2017-11-30   20.713333   20.302668   20.570667   20.590000   65274000.0   \n",
       "...         ...         ...         ...         ...         ...          ...   \n",
       "1254 2022-11-17  186.160004  180.899994  183.960007  183.169998   64336000.0   \n",
       "1255 2022-11-18  185.190002  176.550003  185.050003  180.190002   75904900.0   \n",
       "1256 2022-11-21  176.770004  167.539993  175.850006  167.869995   92882700.0   \n",
       "1257 2022-11-22  170.919998  166.190002  168.630005  169.910004   78452300.0   \n",
       "1258 2022-11-23  183.619995  172.500000  173.570007  183.188293   99652261.0   \n",
       "\n",
       "       Adj Close  \n",
       "0      21.036667  \n",
       "1      21.120667  \n",
       "2      21.170000  \n",
       "3      20.502666  \n",
       "4      20.590000  \n",
       "...          ...  \n",
       "1254  183.169998  \n",
       "1255  180.190002  \n",
       "1256  167.869995  \n",
       "1257  169.910004  \n",
       "1258  183.188293  \n",
       "\n",
       "[1259 rows x 7 columns]"
      ]
     },
     "execution_count": 70,
     "metadata": {},
     "output_type": "execute_result"
    }
   ],
   "source": [
    "df_tesla.reset_index()"
   ]
  },
  {
   "cell_type": "code",
   "execution_count": 71,
   "id": "f4c05ae0",
   "metadata": {},
   "outputs": [],
   "source": [
    "df_tesla = df_tesla.reset_index()"
   ]
  },
  {
   "cell_type": "code",
   "execution_count": 72,
   "id": "00d2e0bc",
   "metadata": {},
   "outputs": [
    {
     "name": "stdout",
     "output_type": "stream",
     "text": [
      "<class 'pandas.core.frame.DataFrame'>\n",
      "RangeIndex: 1259 entries, 0 to 1258\n",
      "Data columns (total 7 columns):\n",
      " #   Column     Non-Null Count  Dtype         \n",
      "---  ------     --------------  -----         \n",
      " 0   Date       1259 non-null   datetime64[ns]\n",
      " 1   High       1259 non-null   float64       \n",
      " 2   Low        1259 non-null   float64       \n",
      " 3   Open       1259 non-null   float64       \n",
      " 4   Close      1259 non-null   float64       \n",
      " 5   Volume     1259 non-null   float64       \n",
      " 6   Adj Close  1259 non-null   float64       \n",
      "dtypes: datetime64[ns](1), float64(6)\n",
      "memory usage: 69.0 KB\n"
     ]
    }
   ],
   "source": [
    "df_tesla.info()"
   ]
  },
  {
   "cell_type": "code",
   "execution_count": 73,
   "id": "e3be4f30",
   "metadata": {},
   "outputs": [
    {
     "data": {
      "text/html": [
       "<div>\n",
       "<style scoped>\n",
       "    .dataframe tbody tr th:only-of-type {\n",
       "        vertical-align: middle;\n",
       "    }\n",
       "\n",
       "    .dataframe tbody tr th {\n",
       "        vertical-align: top;\n",
       "    }\n",
       "\n",
       "    .dataframe thead th {\n",
       "        text-align: right;\n",
       "    }\n",
       "</style>\n",
       "<table border=\"1\" class=\"dataframe\">\n",
       "  <thead>\n",
       "    <tr style=\"text-align: right;\">\n",
       "      <th></th>\n",
       "      <th>Date</th>\n",
       "      <th>High</th>\n",
       "      <th>Low</th>\n",
       "      <th>Open</th>\n",
       "      <th>Close</th>\n",
       "      <th>Volume</th>\n",
       "      <th>Adj Close</th>\n",
       "    </tr>\n",
       "  </thead>\n",
       "  <tbody>\n",
       "    <tr>\n",
       "      <th>0</th>\n",
       "      <td>2017-11-24</td>\n",
       "      <td>21.094000</td>\n",
       "      <td>20.733334</td>\n",
       "      <td>20.919333</td>\n",
       "      <td>21.036667</td>\n",
       "      <td>48661500.0</td>\n",
       "      <td>21.036667</td>\n",
       "    </tr>\n",
       "    <tr>\n",
       "      <th>1</th>\n",
       "      <td>2017-11-27</td>\n",
       "      <td>21.156000</td>\n",
       "      <td>20.634001</td>\n",
       "      <td>20.883333</td>\n",
       "      <td>21.120667</td>\n",
       "      <td>68338500.0</td>\n",
       "      <td>21.120667</td>\n",
       "    </tr>\n",
       "    <tr>\n",
       "      <th>2</th>\n",
       "      <td>2017-11-28</td>\n",
       "      <td>21.333332</td>\n",
       "      <td>20.927999</td>\n",
       "      <td>21.090668</td>\n",
       "      <td>21.170000</td>\n",
       "      <td>74242500.0</td>\n",
       "      <td>21.170000</td>\n",
       "    </tr>\n",
       "    <tr>\n",
       "      <th>3</th>\n",
       "      <td>2017-11-29</td>\n",
       "      <td>21.200001</td>\n",
       "      <td>20.082001</td>\n",
       "      <td>21.153334</td>\n",
       "      <td>20.502666</td>\n",
       "      <td>131511000.0</td>\n",
       "      <td>20.502666</td>\n",
       "    </tr>\n",
       "    <tr>\n",
       "      <th>4</th>\n",
       "      <td>2017-11-30</td>\n",
       "      <td>20.713333</td>\n",
       "      <td>20.302668</td>\n",
       "      <td>20.570667</td>\n",
       "      <td>20.590000</td>\n",
       "      <td>65274000.0</td>\n",
       "      <td>20.590000</td>\n",
       "    </tr>\n",
       "    <tr>\n",
       "      <th>...</th>\n",
       "      <td>...</td>\n",
       "      <td>...</td>\n",
       "      <td>...</td>\n",
       "      <td>...</td>\n",
       "      <td>...</td>\n",
       "      <td>...</td>\n",
       "      <td>...</td>\n",
       "    </tr>\n",
       "    <tr>\n",
       "      <th>1254</th>\n",
       "      <td>2022-11-17</td>\n",
       "      <td>186.160004</td>\n",
       "      <td>180.899994</td>\n",
       "      <td>183.960007</td>\n",
       "      <td>183.169998</td>\n",
       "      <td>64336000.0</td>\n",
       "      <td>183.169998</td>\n",
       "    </tr>\n",
       "    <tr>\n",
       "      <th>1255</th>\n",
       "      <td>2022-11-18</td>\n",
       "      <td>185.190002</td>\n",
       "      <td>176.550003</td>\n",
       "      <td>185.050003</td>\n",
       "      <td>180.190002</td>\n",
       "      <td>75904900.0</td>\n",
       "      <td>180.190002</td>\n",
       "    </tr>\n",
       "    <tr>\n",
       "      <th>1256</th>\n",
       "      <td>2022-11-21</td>\n",
       "      <td>176.770004</td>\n",
       "      <td>167.539993</td>\n",
       "      <td>175.850006</td>\n",
       "      <td>167.869995</td>\n",
       "      <td>92882700.0</td>\n",
       "      <td>167.869995</td>\n",
       "    </tr>\n",
       "    <tr>\n",
       "      <th>1257</th>\n",
       "      <td>2022-11-22</td>\n",
       "      <td>170.919998</td>\n",
       "      <td>166.190002</td>\n",
       "      <td>168.630005</td>\n",
       "      <td>169.910004</td>\n",
       "      <td>78452300.0</td>\n",
       "      <td>169.910004</td>\n",
       "    </tr>\n",
       "    <tr>\n",
       "      <th>1258</th>\n",
       "      <td>2022-11-23</td>\n",
       "      <td>183.619995</td>\n",
       "      <td>172.500000</td>\n",
       "      <td>173.570007</td>\n",
       "      <td>183.188293</td>\n",
       "      <td>99652261.0</td>\n",
       "      <td>183.188293</td>\n",
       "    </tr>\n",
       "  </tbody>\n",
       "</table>\n",
       "<p>1259 rows × 7 columns</p>\n",
       "</div>"
      ],
      "text/plain": [
       "           Date        High         Low        Open       Close       Volume  \\\n",
       "0    2017-11-24   21.094000   20.733334   20.919333   21.036667   48661500.0   \n",
       "1    2017-11-27   21.156000   20.634001   20.883333   21.120667   68338500.0   \n",
       "2    2017-11-28   21.333332   20.927999   21.090668   21.170000   74242500.0   \n",
       "3    2017-11-29   21.200001   20.082001   21.153334   20.502666  131511000.0   \n",
       "4    2017-11-30   20.713333   20.302668   20.570667   20.590000   65274000.0   \n",
       "...         ...         ...         ...         ...         ...          ...   \n",
       "1254 2022-11-17  186.160004  180.899994  183.960007  183.169998   64336000.0   \n",
       "1255 2022-11-18  185.190002  176.550003  185.050003  180.190002   75904900.0   \n",
       "1256 2022-11-21  176.770004  167.539993  175.850006  167.869995   92882700.0   \n",
       "1257 2022-11-22  170.919998  166.190002  168.630005  169.910004   78452300.0   \n",
       "1258 2022-11-23  183.619995  172.500000  173.570007  183.188293   99652261.0   \n",
       "\n",
       "       Adj Close  \n",
       "0      21.036667  \n",
       "1      21.120667  \n",
       "2      21.170000  \n",
       "3      20.502666  \n",
       "4      20.590000  \n",
       "...          ...  \n",
       "1254  183.169998  \n",
       "1255  180.190002  \n",
       "1256  167.869995  \n",
       "1257  169.910004  \n",
       "1258  183.188293  \n",
       "\n",
       "[1259 rows x 7 columns]"
      ]
     },
     "execution_count": 73,
     "metadata": {},
     "output_type": "execute_result"
    }
   ],
   "source": [
    "df_tesla"
   ]
  },
  {
   "cell_type": "code",
   "execution_count": 96,
   "id": "a098cddf",
   "metadata": {
    "scrolled": true
   },
   "outputs": [],
   "source": [
    "## revert reset index\n",
    "\n",
    "df_tesla.set_index('Date', drop = True, inplace=True)"
   ]
  },
  {
   "cell_type": "markdown",
   "id": "12df801b",
   "metadata": {},
   "source": [
    "### Datetime"
   ]
  },
  {
   "cell_type": "code",
   "execution_count": 76,
   "id": "14c11c19",
   "metadata": {},
   "outputs": [],
   "source": [
    "## datetime library\n",
    "\n",
    "from datetime import datetime"
   ]
  },
  {
   "cell_type": "code",
   "execution_count": 77,
   "id": "14d0e675",
   "metadata": {},
   "outputs": [
    {
     "data": {
      "text/plain": [
       "datetime.datetime(2022, 11, 24, 2, 13, 41, 968016)"
      ]
     },
     "execution_count": 77,
     "metadata": {},
     "output_type": "execute_result"
    }
   ],
   "source": [
    "datetime.now()"
   ]
  },
  {
   "cell_type": "code",
   "execution_count": 78,
   "id": "b153ae18",
   "metadata": {},
   "outputs": [
    {
     "data": {
      "text/plain": [
       "datetime.datetime(2021, 11, 21, 0, 0)"
      ]
     },
     "execution_count": 78,
     "metadata": {},
     "output_type": "execute_result"
    }
   ],
   "source": [
    "datetime(2021,11,21)"
   ]
  },
  {
   "cell_type": "code",
   "execution_count": 79,
   "id": "4296cc21",
   "metadata": {},
   "outputs": [],
   "source": [
    "def add_num(num1, num2):\n",
    "    return num1+num2"
   ]
  },
  {
   "cell_type": "code",
   "execution_count": 81,
   "id": "28a12604",
   "metadata": {},
   "outputs": [
    {
     "name": "stdout",
     "output_type": "stream",
     "text": [
      "time taken:  0:00:00\n"
     ]
    }
   ],
   "source": [
    "num1  = 20\n",
    "num2 = 30\n",
    "start_time  = datetime.now()\n",
    "add_num(num1, num2)\n",
    "end_time = datetime.now()\n",
    "print(\"time taken: \", end_time - start_time)"
   ]
  },
  {
   "cell_type": "code",
   "execution_count": 82,
   "id": "3b469dec",
   "metadata": {},
   "outputs": [],
   "source": [
    "date = datetime(2021,11,21)"
   ]
  },
  {
   "cell_type": "code",
   "execution_count": 83,
   "id": "b31e12fc",
   "metadata": {},
   "outputs": [
    {
     "data": {
      "text/plain": [
       "datetime.datetime(2021, 11, 21, 0, 0)"
      ]
     },
     "execution_count": 83,
     "metadata": {},
     "output_type": "execute_result"
    }
   ],
   "source": [
    "date"
   ]
  },
  {
   "cell_type": "code",
   "execution_count": 84,
   "id": "0f3f81d5",
   "metadata": {},
   "outputs": [
    {
     "data": {
      "text/plain": [
       "datetime.date(2021, 11, 21)"
      ]
     },
     "execution_count": 84,
     "metadata": {},
     "output_type": "execute_result"
    }
   ],
   "source": [
    "date.date()   #date in date"
   ]
  },
  {
   "cell_type": "code",
   "execution_count": 86,
   "id": "99adb010",
   "metadata": {},
   "outputs": [
    {
     "data": {
      "text/plain": [
       "21"
      ]
     },
     "execution_count": 86,
     "metadata": {},
     "output_type": "execute_result"
    }
   ],
   "source": [
    "date.day   #day in date"
   ]
  },
  {
   "cell_type": "code",
   "execution_count": 88,
   "id": "69342ddc",
   "metadata": {},
   "outputs": [
    {
     "data": {
      "text/plain": [
       "6"
      ]
     },
     "execution_count": 88,
     "metadata": {},
     "output_type": "execute_result"
    }
   ],
   "source": [
    "date.weekday()  # weekday in date variable"
   ]
  },
  {
   "cell_type": "code",
   "execution_count": 90,
   "id": "1cbd2ed5",
   "metadata": {},
   "outputs": [
    {
     "data": {
      "text/plain": [
       "(2021, 11, 0)"
      ]
     },
     "execution_count": 90,
     "metadata": {},
     "output_type": "execute_result"
    }
   ],
   "source": [
    "date.year, date.month, date.second"
   ]
  },
  {
   "cell_type": "markdown",
   "id": "d12ecd91",
   "metadata": {},
   "source": [
    "### Time Resampling"
   ]
  },
  {
   "cell_type": "code",
   "execution_count": 98,
   "id": "cf8693f7",
   "metadata": {},
   "outputs": [
    {
     "data": {
      "text/html": [
       "<div>\n",
       "<style scoped>\n",
       "    .dataframe tbody tr th:only-of-type {\n",
       "        vertical-align: middle;\n",
       "    }\n",
       "\n",
       "    .dataframe tbody tr th {\n",
       "        vertical-align: top;\n",
       "    }\n",
       "\n",
       "    .dataframe thead th {\n",
       "        text-align: right;\n",
       "    }\n",
       "</style>\n",
       "<table border=\"1\" class=\"dataframe\">\n",
       "  <thead>\n",
       "    <tr style=\"text-align: right;\">\n",
       "      <th></th>\n",
       "      <th>High</th>\n",
       "      <th>Low</th>\n",
       "      <th>Open</th>\n",
       "      <th>Close</th>\n",
       "      <th>Volume</th>\n",
       "      <th>Adj Close</th>\n",
       "    </tr>\n",
       "    <tr>\n",
       "      <th>Date</th>\n",
       "      <th></th>\n",
       "      <th></th>\n",
       "      <th></th>\n",
       "      <th></th>\n",
       "      <th></th>\n",
       "      <th></th>\n",
       "    </tr>\n",
       "  </thead>\n",
       "  <tbody>\n",
       "    <tr>\n",
       "      <th>2017-12-31</th>\n",
       "      <td>20.533333</td>\n",
       "      <td>20.000000</td>\n",
       "      <td>20.006666</td>\n",
       "      <td>20.246668</td>\n",
       "      <td>48661500.0</td>\n",
       "      <td>20.246668</td>\n",
       "    </tr>\n",
       "    <tr>\n",
       "      <th>2018-12-31</th>\n",
       "      <td>17.355333</td>\n",
       "      <td>16.306000</td>\n",
       "      <td>16.851999</td>\n",
       "      <td>16.704000</td>\n",
       "      <td>46210500.0</td>\n",
       "      <td>16.704000</td>\n",
       "    </tr>\n",
       "    <tr>\n",
       "      <th>2019-12-31</th>\n",
       "      <td>12.445333</td>\n",
       "      <td>11.799333</td>\n",
       "      <td>12.073333</td>\n",
       "      <td>11.931333</td>\n",
       "      <td>36984000.0</td>\n",
       "      <td>11.931333</td>\n",
       "    </tr>\n",
       "    <tr>\n",
       "      <th>2020-12-31</th>\n",
       "      <td>26.990667</td>\n",
       "      <td>23.367332</td>\n",
       "      <td>24.980000</td>\n",
       "      <td>24.081333</td>\n",
       "      <td>52073100.0</td>\n",
       "      <td>24.081333</td>\n",
       "    </tr>\n",
       "    <tr>\n",
       "      <th>2021-12-31</th>\n",
       "      <td>188.736664</td>\n",
       "      <td>179.830002</td>\n",
       "      <td>184.183334</td>\n",
       "      <td>187.666672</td>\n",
       "      <td>29401800.0</td>\n",
       "      <td>187.666672</td>\n",
       "    </tr>\n",
       "    <tr>\n",
       "      <th>2022-12-31</th>\n",
       "      <td>170.919998</td>\n",
       "      <td>166.190002</td>\n",
       "      <td>168.630005</td>\n",
       "      <td>167.869995</td>\n",
       "      <td>41864700.0</td>\n",
       "      <td>167.869995</td>\n",
       "    </tr>\n",
       "  </tbody>\n",
       "</table>\n",
       "</div>"
      ],
      "text/plain": [
       "                  High         Low        Open       Close      Volume  \\\n",
       "Date                                                                     \n",
       "2017-12-31   20.533333   20.000000   20.006666   20.246668  48661500.0   \n",
       "2018-12-31   17.355333   16.306000   16.851999   16.704000  46210500.0   \n",
       "2019-12-31   12.445333   11.799333   12.073333   11.931333  36984000.0   \n",
       "2020-12-31   26.990667   23.367332   24.980000   24.081333  52073100.0   \n",
       "2021-12-31  188.736664  179.830002  184.183334  187.666672  29401800.0   \n",
       "2022-12-31  170.919998  166.190002  168.630005  167.869995  41864700.0   \n",
       "\n",
       "             Adj Close  \n",
       "Date                    \n",
       "2017-12-31   20.246668  \n",
       "2018-12-31   16.704000  \n",
       "2019-12-31   11.931333  \n",
       "2020-12-31   24.081333  \n",
       "2021-12-31  187.666672  \n",
       "2022-12-31  167.869995  "
      ]
     },
     "execution_count": 98,
     "metadata": {},
     "output_type": "execute_result"
    }
   ],
   "source": [
    "df_tesla.resample(rule= 'A').min()"
   ]
  },
  {
   "cell_type": "code",
   "execution_count": 99,
   "id": "7f55c026",
   "metadata": {},
   "outputs": [
    {
     "data": {
      "text/html": [
       "<div>\n",
       "<style scoped>\n",
       "    .dataframe tbody tr th:only-of-type {\n",
       "        vertical-align: middle;\n",
       "    }\n",
       "\n",
       "    .dataframe tbody tr th {\n",
       "        vertical-align: top;\n",
       "    }\n",
       "\n",
       "    .dataframe thead th {\n",
       "        text-align: right;\n",
       "    }\n",
       "</style>\n",
       "<table border=\"1\" class=\"dataframe\">\n",
       "  <thead>\n",
       "    <tr style=\"text-align: right;\">\n",
       "      <th></th>\n",
       "      <th>High</th>\n",
       "      <th>Low</th>\n",
       "      <th>Open</th>\n",
       "      <th>Close</th>\n",
       "      <th>Volume</th>\n",
       "      <th>Adj Close</th>\n",
       "    </tr>\n",
       "    <tr>\n",
       "      <th>Date</th>\n",
       "      <th></th>\n",
       "      <th></th>\n",
       "      <th></th>\n",
       "      <th></th>\n",
       "      <th></th>\n",
       "      <th></th>\n",
       "    </tr>\n",
       "  </thead>\n",
       "  <tbody>\n",
       "    <tr>\n",
       "      <th>2017-12-31</th>\n",
       "      <td>23.162666</td>\n",
       "      <td>22.505333</td>\n",
       "      <td>22.993334</td>\n",
       "      <td>22.896667</td>\n",
       "      <td>131511000.0</td>\n",
       "      <td>22.896667</td>\n",
       "    </tr>\n",
       "    <tr>\n",
       "      <th>2018-12-31</th>\n",
       "      <td>25.830667</td>\n",
       "      <td>24.474667</td>\n",
       "      <td>25.000000</td>\n",
       "      <td>25.304667</td>\n",
       "      <td>504745500.0</td>\n",
       "      <td>25.304667</td>\n",
       "    </tr>\n",
       "    <tr>\n",
       "      <th>2019-12-31</th>\n",
       "      <td>29.020666</td>\n",
       "      <td>28.423332</td>\n",
       "      <td>29.000000</td>\n",
       "      <td>28.729334</td>\n",
       "      <td>450091500.0</td>\n",
       "      <td>28.729334</td>\n",
       "    </tr>\n",
       "    <tr>\n",
       "      <th>2020-12-31</th>\n",
       "      <td>239.573334</td>\n",
       "      <td>230.373337</td>\n",
       "      <td>233.330002</td>\n",
       "      <td>235.223328</td>\n",
       "      <td>914082000.0</td>\n",
       "      <td>235.223328</td>\n",
       "    </tr>\n",
       "    <tr>\n",
       "      <th>2021-12-31</th>\n",
       "      <td>414.496674</td>\n",
       "      <td>405.666656</td>\n",
       "      <td>411.470001</td>\n",
       "      <td>409.970001</td>\n",
       "      <td>268189500.0</td>\n",
       "      <td>409.970001</td>\n",
       "    </tr>\n",
       "    <tr>\n",
       "      <th>2022-12-31</th>\n",
       "      <td>402.666656</td>\n",
       "      <td>378.679993</td>\n",
       "      <td>396.516663</td>\n",
       "      <td>399.926666</td>\n",
       "      <td>151565700.0</td>\n",
       "      <td>399.926666</td>\n",
       "    </tr>\n",
       "  </tbody>\n",
       "</table>\n",
       "</div>"
      ],
      "text/plain": [
       "                  High         Low        Open       Close       Volume  \\\n",
       "Date                                                                      \n",
       "2017-12-31   23.162666   22.505333   22.993334   22.896667  131511000.0   \n",
       "2018-12-31   25.830667   24.474667   25.000000   25.304667  504745500.0   \n",
       "2019-12-31   29.020666   28.423332   29.000000   28.729334  450091500.0   \n",
       "2020-12-31  239.573334  230.373337  233.330002  235.223328  914082000.0   \n",
       "2021-12-31  414.496674  405.666656  411.470001  409.970001  268189500.0   \n",
       "2022-12-31  402.666656  378.679993  396.516663  399.926666  151565700.0   \n",
       "\n",
       "             Adj Close  \n",
       "Date                    \n",
       "2017-12-31   22.896667  \n",
       "2018-12-31   25.304667  \n",
       "2019-12-31   28.729334  \n",
       "2020-12-31  235.223328  \n",
       "2021-12-31  409.970001  \n",
       "2022-12-31  399.926666  "
      ]
     },
     "execution_count": 99,
     "metadata": {},
     "output_type": "execute_result"
    }
   ],
   "source": [
    "## what was max share price in specific years\n",
    "\n",
    "## A- year end frequency\n",
    "\n",
    "df_tesla.resample(rule= 'A').max()"
   ]
  },
  {
   "cell_type": "code",
   "execution_count": 100,
   "id": "346e2abc",
   "metadata": {},
   "outputs": [
    {
     "data": {
      "text/plain": [
       "<AxesSubplot:xlabel='Date'>"
      ]
     },
     "execution_count": 100,
     "metadata": {},
     "output_type": "execute_result"
    },
    {
     "data": {
      "image/png": "[encoded data removed]",
      "text/plain": [
       "<Figure size 432x288 with 1 Axes>"
      ]
     },
     "metadata": {
      "needs_background": "light"
     },
     "output_type": "display_data"
    }
   ],
   "source": [
    "## plot the resample dataframe\n",
    "\n",
    "df_tesla.resample(rule= 'A').max()['Open'].plot()"
   ]
  },
  {
   "cell_type": "code",
   "execution_count": 103,
   "id": "db00d578",
   "metadata": {},
   "outputs": [
    {
     "data": {
      "text/plain": [
       "<AxesSubplot:xlabel='Date'>"
      ]
     },
     "execution_count": 103,
     "metadata": {},
     "output_type": "execute_result"
    },
    {
     "data": {
      "image/png": "[encoded data removed]",
      "text/plain": [
       "<Figure size 432x288 with 1 Axes>"
      ]
     },
     "metadata": {
      "needs_background": "light"
     },
     "output_type": "display_data"
    }
   ],
   "source": [
    "###quaterly start frequency\n",
    "\n",
    "df_tesla.resample(rule= 'QS').max()['Open'].plot()"
   ]
  },
  {
   "cell_type": "code",
   "execution_count": 106,
   "id": "7a8ac7ef",
   "metadata": {},
   "outputs": [
    {
     "data": {
      "text/html": [
       "<div>\n",
       "<style scoped>\n",
       "    .dataframe tbody tr th:only-of-type {\n",
       "        vertical-align: middle;\n",
       "    }\n",
       "\n",
       "    .dataframe tbody tr th {\n",
       "        vertical-align: top;\n",
       "    }\n",
       "\n",
       "    .dataframe thead th {\n",
       "        text-align: right;\n",
       "    }\n",
       "</style>\n",
       "<table border=\"1\" class=\"dataframe\">\n",
       "  <thead>\n",
       "    <tr style=\"text-align: right;\">\n",
       "      <th></th>\n",
       "      <th>High</th>\n",
       "      <th>Low</th>\n",
       "      <th>Open</th>\n",
       "      <th>Close</th>\n",
       "      <th>Volume</th>\n",
       "      <th>Adj Close</th>\n",
       "    </tr>\n",
       "    <tr>\n",
       "      <th>Date</th>\n",
       "      <th></th>\n",
       "      <th></th>\n",
       "      <th></th>\n",
       "      <th></th>\n",
       "      <th></th>\n",
       "      <th></th>\n",
       "    </tr>\n",
       "  </thead>\n",
       "  <tbody>\n",
       "    <tr>\n",
       "      <th>2017-12-29</th>\n",
       "      <td>23.162666</td>\n",
       "      <td>22.505333</td>\n",
       "      <td>22.993334</td>\n",
       "      <td>22.896667</td>\n",
       "      <td>131511000.0</td>\n",
       "      <td>22.896667</td>\n",
       "    </tr>\n",
       "    <tr>\n",
       "      <th>2018-12-31</th>\n",
       "      <td>25.830667</td>\n",
       "      <td>24.474667</td>\n",
       "      <td>25.000000</td>\n",
       "      <td>25.304667</td>\n",
       "      <td>504745500.0</td>\n",
       "      <td>25.304667</td>\n",
       "    </tr>\n",
       "    <tr>\n",
       "      <th>2019-12-31</th>\n",
       "      <td>29.020666</td>\n",
       "      <td>28.423332</td>\n",
       "      <td>29.000000</td>\n",
       "      <td>28.729334</td>\n",
       "      <td>450091500.0</td>\n",
       "      <td>28.729334</td>\n",
       "    </tr>\n",
       "    <tr>\n",
       "      <th>2020-12-31</th>\n",
       "      <td>239.573334</td>\n",
       "      <td>230.373337</td>\n",
       "      <td>233.330002</td>\n",
       "      <td>235.223328</td>\n",
       "      <td>914082000.0</td>\n",
       "      <td>235.223328</td>\n",
       "    </tr>\n",
       "    <tr>\n",
       "      <th>2021-12-31</th>\n",
       "      <td>414.496674</td>\n",
       "      <td>405.666656</td>\n",
       "      <td>411.470001</td>\n",
       "      <td>409.970001</td>\n",
       "      <td>268189500.0</td>\n",
       "      <td>409.970001</td>\n",
       "    </tr>\n",
       "    <tr>\n",
       "      <th>2022-12-30</th>\n",
       "      <td>402.666656</td>\n",
       "      <td>378.679993</td>\n",
       "      <td>396.516663</td>\n",
       "      <td>399.926666</td>\n",
       "      <td>151565700.0</td>\n",
       "      <td>399.926666</td>\n",
       "    </tr>\n",
       "  </tbody>\n",
       "</table>\n",
       "</div>"
      ],
      "text/plain": [
       "                  High         Low        Open       Close       Volume  \\\n",
       "Date                                                                      \n",
       "2017-12-29   23.162666   22.505333   22.993334   22.896667  131511000.0   \n",
       "2018-12-31   25.830667   24.474667   25.000000   25.304667  504745500.0   \n",
       "2019-12-31   29.020666   28.423332   29.000000   28.729334  450091500.0   \n",
       "2020-12-31  239.573334  230.373337  233.330002  235.223328  914082000.0   \n",
       "2021-12-31  414.496674  405.666656  411.470001  409.970001  268189500.0   \n",
       "2022-12-30  402.666656  378.679993  396.516663  399.926666  151565700.0   \n",
       "\n",
       "             Adj Close  \n",
       "Date                    \n",
       "2017-12-29   22.896667  \n",
       "2018-12-31   25.304667  \n",
       "2019-12-31   28.729334  \n",
       "2020-12-31  235.223328  \n",
       "2021-12-31  409.970001  \n",
       "2022-12-30  399.926666  "
      ]
     },
     "execution_count": 106,
     "metadata": {},
     "output_type": "execute_result"
    }
   ],
   "source": [
    "## business end frequency\n",
    "\n",
    "df_tesla.resample(rule= 'BA').max()"
   ]
  },
  {
   "cell_type": "code",
   "execution_count": 108,
   "id": "1c339e2d",
   "metadata": {},
   "outputs": [
    {
     "data": {
      "text/plain": [
       "<AxesSubplot:xlabel='Date'>"
      ]
     },
     "execution_count": 108,
     "metadata": {},
     "output_type": "execute_result"
    },
    {
     "data": {
      "image/png": "[encoded data removed]",
      "text/plain": [
       "<Figure size 432x288 with 1 Axes>"
      ]
     },
     "metadata": {
      "needs_background": "light"
     },
     "output_type": "display_data"
    }
   ],
   "source": [
    "##plotting \n",
    "\n",
    "## specific columns\n",
    "\n",
    "df_tesla['Open'].resample(rule='A').mean().plot(kind = 'bar')"
   ]
  },
  {
   "cell_type": "code",
   "execution_count": 112,
   "id": "00fc30de",
   "metadata": {},
   "outputs": [
    {
     "data": {
      "text/plain": [
       "Date\n",
       "2017-11-30     20.923467\n",
       "2017-12-31     21.514700\n",
       "2018-01-31     22.459206\n",
       "2018-02-28     22.421123\n",
       "2018-03-31     21.161873\n",
       "                 ...    \n",
       "2022-07-31    248.886668\n",
       "2022-08-31    297.223042\n",
       "2022-09-30    287.885710\n",
       "2022-10-31    224.126190\n",
       "2022-11-30    195.918825\n",
       "Freq: M, Name: Open, Length: 61, dtype: float64"
      ]
     },
     "execution_count": 112,
     "metadata": {},
     "output_type": "execute_result"
    }
   ],
   "source": [
    "#Monthly mean\n",
    "\n",
    "df_tesla['Open'].resample(rule='M').mean()"
   ]
  },
  {
   "cell_type": "code",
   "execution_count": 113,
   "id": "0dc607c9",
   "metadata": {},
   "outputs": [
    {
     "data": {
      "text/plain": [
       "<AxesSubplot:xlabel='Date'>"
      ]
     },
     "execution_count": 113,
     "metadata": {},
     "output_type": "execute_result"
    },
    {
     "data": {
      "image/png": "[encoded data removed]",
      "text/plain": [
       "<Figure size 1080x432 with 1 Axes>"
      ]
     },
     "metadata": {
      "needs_background": "light"
     },
     "output_type": "display_data"
    }
   ],
   "source": [
    "df_tesla['Open'].resample(rule='M').max().plot(kind = 'bar', figsize = (15,6))"
   ]
  },
  {
   "cell_type": "markdown",
   "id": "86128b8a",
   "metadata": {},
   "source": [
    "### Rolling"
   ]
  },
  {
   "cell_type": "code",
   "execution_count": 114,
   "id": "b5deb107",
   "metadata": {},
   "outputs": [
    {
     "data": {
      "text/html": [
       "<div>\n",
       "<style scoped>\n",
       "    .dataframe tbody tr th:only-of-type {\n",
       "        vertical-align: middle;\n",
       "    }\n",
       "\n",
       "    .dataframe tbody tr th {\n",
       "        vertical-align: top;\n",
       "    }\n",
       "\n",
       "    .dataframe thead th {\n",
       "        text-align: right;\n",
       "    }\n",
       "</style>\n",
       "<table border=\"1\" class=\"dataframe\">\n",
       "  <thead>\n",
       "    <tr style=\"text-align: right;\">\n",
       "      <th></th>\n",
       "      <th>High</th>\n",
       "      <th>Low</th>\n",
       "      <th>Open</th>\n",
       "      <th>Close</th>\n",
       "      <th>Volume</th>\n",
       "      <th>Adj Close</th>\n",
       "    </tr>\n",
       "    <tr>\n",
       "      <th>Date</th>\n",
       "      <th></th>\n",
       "      <th></th>\n",
       "      <th></th>\n",
       "      <th></th>\n",
       "      <th></th>\n",
       "      <th></th>\n",
       "    </tr>\n",
       "  </thead>\n",
       "  <tbody>\n",
       "    <tr>\n",
       "      <th>2017-11-24</th>\n",
       "      <td>21.094000</td>\n",
       "      <td>20.733334</td>\n",
       "      <td>20.919333</td>\n",
       "      <td>21.036667</td>\n",
       "      <td>48661500.0</td>\n",
       "      <td>21.036667</td>\n",
       "    </tr>\n",
       "    <tr>\n",
       "      <th>2017-11-27</th>\n",
       "      <td>21.156000</td>\n",
       "      <td>20.634001</td>\n",
       "      <td>20.883333</td>\n",
       "      <td>21.120667</td>\n",
       "      <td>68338500.0</td>\n",
       "      <td>21.120667</td>\n",
       "    </tr>\n",
       "    <tr>\n",
       "      <th>2017-11-28</th>\n",
       "      <td>21.333332</td>\n",
       "      <td>20.927999</td>\n",
       "      <td>21.090668</td>\n",
       "      <td>21.170000</td>\n",
       "      <td>74242500.0</td>\n",
       "      <td>21.170000</td>\n",
       "    </tr>\n",
       "    <tr>\n",
       "      <th>2017-11-29</th>\n",
       "      <td>21.200001</td>\n",
       "      <td>20.082001</td>\n",
       "      <td>21.153334</td>\n",
       "      <td>20.502666</td>\n",
       "      <td>131511000.0</td>\n",
       "      <td>20.502666</td>\n",
       "    </tr>\n",
       "    <tr>\n",
       "      <th>2017-11-30</th>\n",
       "      <td>20.713333</td>\n",
       "      <td>20.302668</td>\n",
       "      <td>20.570667</td>\n",
       "      <td>20.590000</td>\n",
       "      <td>65274000.0</td>\n",
       "      <td>20.590000</td>\n",
       "    </tr>\n",
       "  </tbody>\n",
       "</table>\n",
       "</div>"
      ],
      "text/plain": [
       "                 High        Low       Open      Close       Volume  Adj Close\n",
       "Date                                                                          \n",
       "2017-11-24  21.094000  20.733334  20.919333  21.036667   48661500.0  21.036667\n",
       "2017-11-27  21.156000  20.634001  20.883333  21.120667   68338500.0  21.120667\n",
       "2017-11-28  21.333332  20.927999  21.090668  21.170000   74242500.0  21.170000\n",
       "2017-11-29  21.200001  20.082001  21.153334  20.502666  131511000.0  20.502666\n",
       "2017-11-30  20.713333  20.302668  20.570667  20.590000   65274000.0  20.590000"
      ]
     },
     "execution_count": 114,
     "metadata": {},
     "output_type": "execute_result"
    }
   ],
   "source": [
    "### Rolling\n",
    "\n",
    "df_tesla.head()"
   ]
  },
  {
   "cell_type": "code",
   "execution_count": 115,
   "id": "d472aff3",
   "metadata": {},
   "outputs": [
    {
     "data": {
      "text/plain": [
       "Date\n",
       "2017-11-24    21.094000\n",
       "2017-11-27    21.156000\n",
       "2017-11-28    21.333332\n",
       "2017-11-29    21.200001\n",
       "2017-11-30    20.713333\n",
       "Name: High, dtype: float64"
      ]
     },
     "execution_count": 115,
     "metadata": {},
     "output_type": "execute_result"
    }
   ],
   "source": [
    "df_tesla['High'].head()"
   ]
  },
  {
   "cell_type": "code",
   "execution_count": 119,
   "id": "dcd0aa8c",
   "metadata": {},
   "outputs": [
    {
     "data": {
      "text/plain": [
       "Date\n",
       "2017-11-24          NaN\n",
       "2017-11-27          NaN\n",
       "2017-11-28          NaN\n",
       "2017-11-29          NaN\n",
       "2017-11-30          NaN\n",
       "2017-12-01          NaN\n",
       "2017-12-04          NaN\n",
       "2017-12-05          NaN\n",
       "2017-12-06          NaN\n",
       "2017-12-07    20.940400\n",
       "2017-12-08    20.944200\n",
       "2017-12-11    21.022000\n",
       "2017-12-12    21.164933\n",
       "2017-12-13    21.339733\n",
       "2017-12-14    21.584667\n",
       "2017-12-15    21.808533\n",
       "2017-12-18    22.064933\n",
       "2017-12-19    22.288200\n",
       "2017-12-20    22.419600\n",
       "2017-12-21    22.520333\n",
       "Name: High, dtype: float64"
      ]
     },
     "execution_count": 119,
     "metadata": {},
     "output_type": "execute_result"
    }
   ],
   "source": [
    "#rolling window for 10 Days\n",
    "\n",
    "df_tesla['High'].rolling(10).mean().head(20)"
   ]
  },
  {
   "cell_type": "code",
   "execution_count": 123,
   "id": "2b63251a",
   "metadata": {},
   "outputs": [],
   "source": [
    "df_tesla['Open: 30 days rolling']= df_tesla['Open'].rolling(30).mean()"
   ]
  },
  {
   "cell_type": "code",
   "execution_count": 124,
   "id": "e9ae849d",
   "metadata": {},
   "outputs": [
    {
     "data": {
      "text/html": [
       "<div>\n",
       "<style scoped>\n",
       "    .dataframe tbody tr th:only-of-type {\n",
       "        vertical-align: middle;\n",
       "    }\n",
       "\n",
       "    .dataframe tbody tr th {\n",
       "        vertical-align: top;\n",
       "    }\n",
       "\n",
       "    .dataframe thead th {\n",
       "        text-align: right;\n",
       "    }\n",
       "</style>\n",
       "<table border=\"1\" class=\"dataframe\">\n",
       "  <thead>\n",
       "    <tr style=\"text-align: right;\">\n",
       "      <th></th>\n",
       "      <th>High</th>\n",
       "      <th>Low</th>\n",
       "      <th>Open</th>\n",
       "      <th>Close</th>\n",
       "      <th>Volume</th>\n",
       "      <th>Adj Close</th>\n",
       "      <th>Open: 30 days rolling</th>\n",
       "    </tr>\n",
       "    <tr>\n",
       "      <th>Date</th>\n",
       "      <th></th>\n",
       "      <th></th>\n",
       "      <th></th>\n",
       "      <th></th>\n",
       "      <th></th>\n",
       "      <th></th>\n",
       "      <th></th>\n",
       "    </tr>\n",
       "  </thead>\n",
       "  <tbody>\n",
       "    <tr>\n",
       "      <th>2017-11-24</th>\n",
       "      <td>21.094000</td>\n",
       "      <td>20.733334</td>\n",
       "      <td>20.919333</td>\n",
       "      <td>21.036667</td>\n",
       "      <td>48661500.0</td>\n",
       "      <td>21.036667</td>\n",
       "      <td>NaN</td>\n",
       "    </tr>\n",
       "    <tr>\n",
       "      <th>2017-11-27</th>\n",
       "      <td>21.156000</td>\n",
       "      <td>20.634001</td>\n",
       "      <td>20.883333</td>\n",
       "      <td>21.120667</td>\n",
       "      <td>68338500.0</td>\n",
       "      <td>21.120667</td>\n",
       "      <td>NaN</td>\n",
       "    </tr>\n",
       "    <tr>\n",
       "      <th>2017-11-28</th>\n",
       "      <td>21.333332</td>\n",
       "      <td>20.927999</td>\n",
       "      <td>21.090668</td>\n",
       "      <td>21.170000</td>\n",
       "      <td>74242500.0</td>\n",
       "      <td>21.170000</td>\n",
       "      <td>NaN</td>\n",
       "    </tr>\n",
       "    <tr>\n",
       "      <th>2017-11-29</th>\n",
       "      <td>21.200001</td>\n",
       "      <td>20.082001</td>\n",
       "      <td>21.153334</td>\n",
       "      <td>20.502666</td>\n",
       "      <td>131511000.0</td>\n",
       "      <td>20.502666</td>\n",
       "      <td>NaN</td>\n",
       "    </tr>\n",
       "    <tr>\n",
       "      <th>2017-11-30</th>\n",
       "      <td>20.713333</td>\n",
       "      <td>20.302668</td>\n",
       "      <td>20.570667</td>\n",
       "      <td>20.590000</td>\n",
       "      <td>65274000.0</td>\n",
       "      <td>20.590000</td>\n",
       "      <td>NaN</td>\n",
       "    </tr>\n",
       "    <tr>\n",
       "      <th>2017-12-01</th>\n",
       "      <td>20.688000</td>\n",
       "      <td>20.336666</td>\n",
       "      <td>20.362667</td>\n",
       "      <td>20.435333</td>\n",
       "      <td>64393500.0</td>\n",
       "      <td>20.435333</td>\n",
       "      <td>NaN</td>\n",
       "    </tr>\n",
       "    <tr>\n",
       "      <th>2017-12-04</th>\n",
       "      <td>20.551332</td>\n",
       "      <td>20.040667</td>\n",
       "      <td>20.433332</td>\n",
       "      <td>20.346666</td>\n",
       "      <td>87526500.0</td>\n",
       "      <td>20.346666</td>\n",
       "      <td>NaN</td>\n",
       "    </tr>\n",
       "    <tr>\n",
       "      <th>2017-12-05</th>\n",
       "      <td>20.533333</td>\n",
       "      <td>20.066668</td>\n",
       "      <td>20.133333</td>\n",
       "      <td>20.246668</td>\n",
       "      <td>69697500.0</td>\n",
       "      <td>20.246668</td>\n",
       "      <td>NaN</td>\n",
       "    </tr>\n",
       "    <tr>\n",
       "      <th>2017-12-06</th>\n",
       "      <td>20.892668</td>\n",
       "      <td>20.000000</td>\n",
       "      <td>20.006666</td>\n",
       "      <td>20.884001</td>\n",
       "      <td>107929500.0</td>\n",
       "      <td>20.884001</td>\n",
       "      <td>NaN</td>\n",
       "    </tr>\n",
       "    <tr>\n",
       "      <th>2017-12-07</th>\n",
       "      <td>21.242001</td>\n",
       "      <td>20.736668</td>\n",
       "      <td>20.799999</td>\n",
       "      <td>20.749332</td>\n",
       "      <td>71709000.0</td>\n",
       "      <td>20.749332</td>\n",
       "      <td>NaN</td>\n",
       "    </tr>\n",
       "    <tr>\n",
       "      <th>2017-12-08</th>\n",
       "      <td>21.132000</td>\n",
       "      <td>20.750668</td>\n",
       "      <td>20.973333</td>\n",
       "      <td>21.008667</td>\n",
       "      <td>52027500.0</td>\n",
       "      <td>21.008667</td>\n",
       "      <td>NaN</td>\n",
       "    </tr>\n",
       "    <tr>\n",
       "      <th>2017-12-11</th>\n",
       "      <td>21.934000</td>\n",
       "      <td>20.916668</td>\n",
       "      <td>20.975332</td>\n",
       "      <td>21.927334</td>\n",
       "      <td>119070000.0</td>\n",
       "      <td>21.927334</td>\n",
       "      <td>NaN</td>\n",
       "    </tr>\n",
       "    <tr>\n",
       "      <th>2017-12-12</th>\n",
       "      <td>22.762667</td>\n",
       "      <td>22.002001</td>\n",
       "      <td>22.030001</td>\n",
       "      <td>22.735332</td>\n",
       "      <td>130998000.0</td>\n",
       "      <td>22.735332</td>\n",
       "      <td>NaN</td>\n",
       "    </tr>\n",
       "    <tr>\n",
       "      <th>2017-12-13</th>\n",
       "      <td>22.948000</td>\n",
       "      <td>22.433332</td>\n",
       "      <td>22.728666</td>\n",
       "      <td>22.601999</td>\n",
       "      <td>93322500.0</td>\n",
       "      <td>22.601999</td>\n",
       "      <td>NaN</td>\n",
       "    </tr>\n",
       "    <tr>\n",
       "      <th>2017-12-14</th>\n",
       "      <td>23.162666</td>\n",
       "      <td>22.459999</td>\n",
       "      <td>22.733999</td>\n",
       "      <td>22.525999</td>\n",
       "      <td>86998500.0</td>\n",
       "      <td>22.525999</td>\n",
       "      <td>NaN</td>\n",
       "    </tr>\n",
       "    <tr>\n",
       "      <th>2017-12-15</th>\n",
       "      <td>22.926666</td>\n",
       "      <td>22.384001</td>\n",
       "      <td>22.802668</td>\n",
       "      <td>22.896667</td>\n",
       "      <td>103998000.0</td>\n",
       "      <td>22.896667</td>\n",
       "      <td>NaN</td>\n",
       "    </tr>\n",
       "    <tr>\n",
       "      <th>2017-12-18</th>\n",
       "      <td>23.115334</td>\n",
       "      <td>22.505333</td>\n",
       "      <td>22.993334</td>\n",
       "      <td>22.591333</td>\n",
       "      <td>82143000.0</td>\n",
       "      <td>22.591333</td>\n",
       "      <td>NaN</td>\n",
       "    </tr>\n",
       "    <tr>\n",
       "      <th>2017-12-19</th>\n",
       "      <td>22.766001</td>\n",
       "      <td>22.020000</td>\n",
       "      <td>22.684000</td>\n",
       "      <td>22.073334</td>\n",
       "      <td>102375000.0</td>\n",
       "      <td>22.073334</td>\n",
       "      <td>NaN</td>\n",
       "    </tr>\n",
       "    <tr>\n",
       "      <th>2017-12-20</th>\n",
       "      <td>22.206667</td>\n",
       "      <td>21.669333</td>\n",
       "      <td>22.179333</td>\n",
       "      <td>21.931999</td>\n",
       "      <td>89307000.0</td>\n",
       "      <td>21.931999</td>\n",
       "      <td>NaN</td>\n",
       "    </tr>\n",
       "    <tr>\n",
       "      <th>2017-12-21</th>\n",
       "      <td>22.249332</td>\n",
       "      <td>21.813999</td>\n",
       "      <td>21.972668</td>\n",
       "      <td>22.110666</td>\n",
       "      <td>65778000.0</td>\n",
       "      <td>22.110666</td>\n",
       "      <td>NaN</td>\n",
       "    </tr>\n",
       "    <tr>\n",
       "      <th>2017-12-22</th>\n",
       "      <td>22.061333</td>\n",
       "      <td>21.654667</td>\n",
       "      <td>21.967333</td>\n",
       "      <td>21.680000</td>\n",
       "      <td>63237000.0</td>\n",
       "      <td>21.680000</td>\n",
       "      <td>NaN</td>\n",
       "    </tr>\n",
       "    <tr>\n",
       "      <th>2017-12-26</th>\n",
       "      <td>21.596001</td>\n",
       "      <td>21.105333</td>\n",
       "      <td>21.588667</td>\n",
       "      <td>21.152666</td>\n",
       "      <td>65676000.0</td>\n",
       "      <td>21.152666</td>\n",
       "      <td>NaN</td>\n",
       "    </tr>\n",
       "    <tr>\n",
       "      <th>2017-12-27</th>\n",
       "      <td>21.178667</td>\n",
       "      <td>20.716667</td>\n",
       "      <td>21.066668</td>\n",
       "      <td>20.775999</td>\n",
       "      <td>70681500.0</td>\n",
       "      <td>20.775999</td>\n",
       "      <td>NaN</td>\n",
       "    </tr>\n",
       "    <tr>\n",
       "      <th>2017-12-28</th>\n",
       "      <td>21.054667</td>\n",
       "      <td>20.636000</td>\n",
       "      <td>20.783333</td>\n",
       "      <td>21.024000</td>\n",
       "      <td>64744500.0</td>\n",
       "      <td>21.024000</td>\n",
       "      <td>NaN</td>\n",
       "    </tr>\n",
       "    <tr>\n",
       "      <th>2017-12-29</th>\n",
       "      <td>21.094000</td>\n",
       "      <td>20.666668</td>\n",
       "      <td>21.078667</td>\n",
       "      <td>20.756666</td>\n",
       "      <td>56658000.0</td>\n",
       "      <td>20.756666</td>\n",
       "      <td>NaN</td>\n",
       "    </tr>\n",
       "    <tr>\n",
       "      <th>2018-01-02</th>\n",
       "      <td>21.474001</td>\n",
       "      <td>20.733334</td>\n",
       "      <td>20.799999</td>\n",
       "      <td>21.368668</td>\n",
       "      <td>65283000.0</td>\n",
       "      <td>21.368668</td>\n",
       "      <td>NaN</td>\n",
       "    </tr>\n",
       "    <tr>\n",
       "      <th>2018-01-03</th>\n",
       "      <td>21.683332</td>\n",
       "      <td>21.036667</td>\n",
       "      <td>21.400000</td>\n",
       "      <td>21.150000</td>\n",
       "      <td>67822500.0</td>\n",
       "      <td>21.150000</td>\n",
       "      <td>NaN</td>\n",
       "    </tr>\n",
       "    <tr>\n",
       "      <th>2018-01-04</th>\n",
       "      <td>21.236668</td>\n",
       "      <td>20.378668</td>\n",
       "      <td>20.858000</td>\n",
       "      <td>20.974667</td>\n",
       "      <td>149194500.0</td>\n",
       "      <td>20.974667</td>\n",
       "      <td>NaN</td>\n",
       "    </tr>\n",
       "    <tr>\n",
       "      <th>2018-01-05</th>\n",
       "      <td>21.149332</td>\n",
       "      <td>20.799999</td>\n",
       "      <td>21.108000</td>\n",
       "      <td>21.105333</td>\n",
       "      <td>68868000.0</td>\n",
       "      <td>21.105333</td>\n",
       "      <td>NaN</td>\n",
       "    </tr>\n",
       "    <tr>\n",
       "      <th>2018-01-08</th>\n",
       "      <td>22.468000</td>\n",
       "      <td>21.033333</td>\n",
       "      <td>21.066668</td>\n",
       "      <td>22.427334</td>\n",
       "      <td>147891000.0</td>\n",
       "      <td>22.427334</td>\n",
       "      <td>21.338133</td>\n",
       "    </tr>\n",
       "    <tr>\n",
       "      <th>2018-01-09</th>\n",
       "      <td>22.586666</td>\n",
       "      <td>21.826668</td>\n",
       "      <td>22.344000</td>\n",
       "      <td>22.246000</td>\n",
       "      <td>107199000.0</td>\n",
       "      <td>22.246000</td>\n",
       "      <td>21.385622</td>\n",
       "    </tr>\n",
       "    <tr>\n",
       "      <th>2018-01-10</th>\n",
       "      <td>22.466667</td>\n",
       "      <td>22.000000</td>\n",
       "      <td>22.146667</td>\n",
       "      <td>22.320000</td>\n",
       "      <td>64648500.0</td>\n",
       "      <td>22.320000</td>\n",
       "      <td>21.427733</td>\n",
       "    </tr>\n",
       "    <tr>\n",
       "      <th>2018-01-11</th>\n",
       "      <td>22.987333</td>\n",
       "      <td>22.217333</td>\n",
       "      <td>22.349333</td>\n",
       "      <td>22.530001</td>\n",
       "      <td>99682500.0</td>\n",
       "      <td>22.530001</td>\n",
       "      <td>21.469689</td>\n",
       "    </tr>\n",
       "    <tr>\n",
       "      <th>2018-01-12</th>\n",
       "      <td>22.694000</td>\n",
       "      <td>22.244667</td>\n",
       "      <td>22.575333</td>\n",
       "      <td>22.414667</td>\n",
       "      <td>72376500.0</td>\n",
       "      <td>22.414667</td>\n",
       "      <td>21.517089</td>\n",
       "    </tr>\n",
       "    <tr>\n",
       "      <th>2018-01-16</th>\n",
       "      <td>23.000000</td>\n",
       "      <td>22.320000</td>\n",
       "      <td>22.502666</td>\n",
       "      <td>22.670668</td>\n",
       "      <td>97114500.0</td>\n",
       "      <td>22.670668</td>\n",
       "      <td>21.581489</td>\n",
       "    </tr>\n",
       "  </tbody>\n",
       "</table>\n",
       "</div>"
      ],
      "text/plain": [
       "                 High        Low       Open      Close       Volume  \\\n",
       "Date                                                                  \n",
       "2017-11-24  21.094000  20.733334  20.919333  21.036667   48661500.0   \n",
       "2017-11-27  21.156000  20.634001  20.883333  21.120667   68338500.0   \n",
       "2017-11-28  21.333332  20.927999  21.090668  21.170000   74242500.0   \n",
       "2017-11-29  21.200001  20.082001  21.153334  20.502666  131511000.0   \n",
       "2017-11-30  20.713333  20.302668  20.570667  20.590000   65274000.0   \n",
       "2017-12-01  20.688000  20.336666  20.362667  20.435333   64393500.0   \n",
       "2017-12-04  20.551332  20.040667  20.433332  20.346666   87526500.0   \n",
       "2017-12-05  20.533333  20.066668  20.133333  20.246668   69697500.0   \n",
       "2017-12-06  20.892668  20.000000  20.006666  20.884001  107929500.0   \n",
       "2017-12-07  21.242001  20.736668  20.799999  20.749332   71709000.0   \n",
       "2017-12-08  21.132000  20.750668  20.973333  21.008667   52027500.0   \n",
       "2017-12-11  21.934000  20.916668  20.975332  21.927334  119070000.0   \n",
       "2017-12-12  22.762667  22.002001  22.030001  22.735332  130998000.0   \n",
       "2017-12-13  22.948000  22.433332  22.728666  22.601999   93322500.0   \n",
       "2017-12-14  23.162666  22.459999  22.733999  22.525999   86998500.0   \n",
       "2017-12-15  22.926666  22.384001  22.802668  22.896667  103998000.0   \n",
       "2017-12-18  23.115334  22.505333  22.993334  22.591333   82143000.0   \n",
       "2017-12-19  22.766001  22.020000  22.684000  22.073334  102375000.0   \n",
       "2017-12-20  22.206667  21.669333  22.179333  21.931999   89307000.0   \n",
       "2017-12-21  22.249332  21.813999  21.972668  22.110666   65778000.0   \n",
       "2017-12-22  22.061333  21.654667  21.967333  21.680000   63237000.0   \n",
       "2017-12-26  21.596001  21.105333  21.588667  21.152666   65676000.0   \n",
       "2017-12-27  21.178667  20.716667  21.066668  20.775999   70681500.0   \n",
       "2017-12-28  21.054667  20.636000  20.783333  21.024000   64744500.0   \n",
       "2017-12-29  21.094000  20.666668  21.078667  20.756666   56658000.0   \n",
       "2018-01-02  21.474001  20.733334  20.799999  21.368668   65283000.0   \n",
       "2018-01-03  21.683332  21.036667  21.400000  21.150000   67822500.0   \n",
       "2018-01-04  21.236668  20.378668  20.858000  20.974667  149194500.0   \n",
       "2018-01-05  21.149332  20.799999  21.108000  21.105333   68868000.0   \n",
       "2018-01-08  22.468000  21.033333  21.066668  22.427334  147891000.0   \n",
       "2018-01-09  22.586666  21.826668  22.344000  22.246000  107199000.0   \n",
       "2018-01-10  22.466667  22.000000  22.146667  22.320000   64648500.0   \n",
       "2018-01-11  22.987333  22.217333  22.349333  22.530001   99682500.0   \n",
       "2018-01-12  22.694000  22.244667  22.575333  22.414667   72376500.0   \n",
       "2018-01-16  23.000000  22.320000  22.502666  22.670668   97114500.0   \n",
       "\n",
       "            Adj Close  Open: 30 days rolling  \n",
       "Date                                          \n",
       "2017-11-24  21.036667                    NaN  \n",
       "2017-11-27  21.120667                    NaN  \n",
       "2017-11-28  21.170000                    NaN  \n",
       "2017-11-29  20.502666                    NaN  \n",
       "2017-11-30  20.590000                    NaN  \n",
       "2017-12-01  20.435333                    NaN  \n",
       "2017-12-04  20.346666                    NaN  \n",
       "2017-12-05  20.246668                    NaN  \n",
       "2017-12-06  20.884001                    NaN  \n",
       "2017-12-07  20.749332                    NaN  \n",
       "2017-12-08  21.008667                    NaN  \n",
       "2017-12-11  21.927334                    NaN  \n",
       "2017-12-12  22.735332                    NaN  \n",
       "2017-12-13  22.601999                    NaN  \n",
       "2017-12-14  22.525999                    NaN  \n",
       "2017-12-15  22.896667                    NaN  \n",
       "2017-12-18  22.591333                    NaN  \n",
       "2017-12-19  22.073334                    NaN  \n",
       "2017-12-20  21.931999                    NaN  \n",
       "2017-12-21  22.110666                    NaN  \n",
       "2017-12-22  21.680000                    NaN  \n",
       "2017-12-26  21.152666                    NaN  \n",
       "2017-12-27  20.775999                    NaN  \n",
       "2017-12-28  21.024000                    NaN  \n",
       "2017-12-29  20.756666                    NaN  \n",
       "2018-01-02  21.368668                    NaN  \n",
       "2018-01-03  21.150000                    NaN  \n",
       "2018-01-04  20.974667                    NaN  \n",
       "2018-01-05  21.105333                    NaN  \n",
       "2018-01-08  22.427334              21.338133  \n",
       "2018-01-09  22.246000              21.385622  \n",
       "2018-01-10  22.320000              21.427733  \n",
       "2018-01-11  22.530001              21.469689  \n",
       "2018-01-12  22.414667              21.517089  \n",
       "2018-01-16  22.670668              21.581489  "
      ]
     },
     "execution_count": 124,
     "metadata": {},
     "output_type": "execute_result"
    }
   ],
   "source": [
    "df_tesla.head(35)"
   ]
  },
  {
   "cell_type": "code",
   "execution_count": 127,
   "id": "fa3f005a",
   "metadata": {},
   "outputs": [
    {
     "data": {
      "text/plain": [
       "<AxesSubplot:xlabel='Date'>"
      ]
     },
     "execution_count": 127,
     "metadata": {},
     "output_type": "execute_result"
    },
    {
     "data": {
      "image/png": "[encoded data removed]",
      "text/plain": [
       "<Figure size 864x360 with 1 Axes>"
      ]
     },
     "metadata": {
      "needs_background": "light"
     },
     "output_type": "display_data"
    }
   ],
   "source": [
    "# helps with smoothing\n",
    "\n",
    "df_tesla[['Open', 'Open: 30 days rolling']].plot(figsize = (12,5))"
   ]
  },
  {
   "cell_type": "code",
   "execution_count": 129,
   "id": "395daf4f",
   "metadata": {},
   "outputs": [],
   "source": [
    "## microsoft data\n",
    "\n",
    "df_msft = pdr.get_data_yahoo('MSFT')"
   ]
  },
  {
   "cell_type": "code",
   "execution_count": 137,
   "id": "620623ce",
   "metadata": {},
   "outputs": [
    {
     "data": {
      "text/html": [
       "<div>\n",
       "<style scoped>\n",
       "    .dataframe tbody tr th:only-of-type {\n",
       "        vertical-align: middle;\n",
       "    }\n",
       "\n",
       "    .dataframe tbody tr th {\n",
       "        vertical-align: top;\n",
       "    }\n",
       "\n",
       "    .dataframe thead th {\n",
       "        text-align: right;\n",
       "    }\n",
       "</style>\n",
       "<table border=\"1\" class=\"dataframe\">\n",
       "  <thead>\n",
       "    <tr style=\"text-align: right;\">\n",
       "      <th></th>\n",
       "      <th>High</th>\n",
       "      <th>Low</th>\n",
       "      <th>Open</th>\n",
       "      <th>Close</th>\n",
       "      <th>Volume</th>\n",
       "      <th>Adj Close</th>\n",
       "    </tr>\n",
       "    <tr>\n",
       "      <th>Date</th>\n",
       "      <th></th>\n",
       "      <th></th>\n",
       "      <th></th>\n",
       "      <th></th>\n",
       "      <th></th>\n",
       "      <th></th>\n",
       "    </tr>\n",
       "  </thead>\n",
       "  <tbody>\n",
       "    <tr>\n",
       "      <th>2017-11-24</th>\n",
       "      <td>83.430000</td>\n",
       "      <td>82.779999</td>\n",
       "      <td>83.010002</td>\n",
       "      <td>83.260002</td>\n",
       "      <td>7425600.0</td>\n",
       "      <td>78.407181</td>\n",
       "    </tr>\n",
       "    <tr>\n",
       "      <th>2017-11-27</th>\n",
       "      <td>83.980003</td>\n",
       "      <td>83.300003</td>\n",
       "      <td>83.309998</td>\n",
       "      <td>83.870003</td>\n",
       "      <td>18265200.0</td>\n",
       "      <td>78.981628</td>\n",
       "    </tr>\n",
       "    <tr>\n",
       "      <th>2017-11-28</th>\n",
       "      <td>85.059998</td>\n",
       "      <td>84.019997</td>\n",
       "      <td>84.070000</td>\n",
       "      <td>84.879997</td>\n",
       "      <td>21926000.0</td>\n",
       "      <td>79.932762</td>\n",
       "    </tr>\n",
       "    <tr>\n",
       "      <th>2017-11-29</th>\n",
       "      <td>84.919998</td>\n",
       "      <td>83.180000</td>\n",
       "      <td>84.709999</td>\n",
       "      <td>83.339996</td>\n",
       "      <td>27381100.0</td>\n",
       "      <td>78.482513</td>\n",
       "    </tr>\n",
       "    <tr>\n",
       "      <th>2017-11-30</th>\n",
       "      <td>84.519997</td>\n",
       "      <td>83.339996</td>\n",
       "      <td>83.510002</td>\n",
       "      <td>84.169998</td>\n",
       "      <td>33054600.0</td>\n",
       "      <td>79.264130</td>\n",
       "    </tr>\n",
       "    <tr>\n",
       "      <th>...</th>\n",
       "      <td>...</td>\n",
       "      <td>...</td>\n",
       "      <td>...</td>\n",
       "      <td>...</td>\n",
       "      <td>...</td>\n",
       "      <td>...</td>\n",
       "    </tr>\n",
       "    <tr>\n",
       "      <th>2022-11-17</th>\n",
       "      <td>243.250000</td>\n",
       "      <td>237.630005</td>\n",
       "      <td>237.779999</td>\n",
       "      <td>241.679993</td>\n",
       "      <td>23123500.0</td>\n",
       "      <td>241.679993</td>\n",
       "    </tr>\n",
       "    <tr>\n",
       "      <th>2022-11-18</th>\n",
       "      <td>243.740005</td>\n",
       "      <td>239.029999</td>\n",
       "      <td>243.509995</td>\n",
       "      <td>241.220001</td>\n",
       "      <td>27591800.0</td>\n",
       "      <td>241.220001</td>\n",
       "    </tr>\n",
       "    <tr>\n",
       "      <th>2022-11-21</th>\n",
       "      <td>244.669998</td>\n",
       "      <td>241.190002</td>\n",
       "      <td>241.429993</td>\n",
       "      <td>242.050003</td>\n",
       "      <td>26394700.0</td>\n",
       "      <td>242.050003</td>\n",
       "    </tr>\n",
       "    <tr>\n",
       "      <th>2022-11-22</th>\n",
       "      <td>245.309998</td>\n",
       "      <td>240.710007</td>\n",
       "      <td>243.589996</td>\n",
       "      <td>245.029999</td>\n",
       "      <td>19665700.0</td>\n",
       "      <td>245.029999</td>\n",
       "    </tr>\n",
       "    <tr>\n",
       "      <th>2022-11-23</th>\n",
       "      <td>248.270004</td>\n",
       "      <td>244.270004</td>\n",
       "      <td>245.104996</td>\n",
       "      <td>247.580002</td>\n",
       "      <td>19321208.0</td>\n",
       "      <td>247.580002</td>\n",
       "    </tr>\n",
       "  </tbody>\n",
       "</table>\n",
       "<p>1259 rows × 6 columns</p>\n",
       "</div>"
      ],
      "text/plain": [
       "                  High         Low        Open       Close      Volume  \\\n",
       "Date                                                                     \n",
       "2017-11-24   83.430000   82.779999   83.010002   83.260002   7425600.0   \n",
       "2017-11-27   83.980003   83.300003   83.309998   83.870003  18265200.0   \n",
       "2017-11-28   85.059998   84.019997   84.070000   84.879997  21926000.0   \n",
       "2017-11-29   84.919998   83.180000   84.709999   83.339996  27381100.0   \n",
       "2017-11-30   84.519997   83.339996   83.510002   84.169998  33054600.0   \n",
       "...                ...         ...         ...         ...         ...   \n",
       "2022-11-17  243.250000  237.630005  237.779999  241.679993  23123500.0   \n",
       "2022-11-18  243.740005  239.029999  243.509995  241.220001  27591800.0   \n",
       "2022-11-21  244.669998  241.190002  241.429993  242.050003  26394700.0   \n",
       "2022-11-22  245.309998  240.710007  243.589996  245.029999  19665700.0   \n",
       "2022-11-23  248.270004  244.270004  245.104996  247.580002  19321208.0   \n",
       "\n",
       "             Adj Close  \n",
       "Date                    \n",
       "2017-11-24   78.407181  \n",
       "2017-11-27   78.981628  \n",
       "2017-11-28   79.932762  \n",
       "2017-11-29   78.482513  \n",
       "2017-11-30   79.264130  \n",
       "...                ...  \n",
       "2022-11-17  241.679993  \n",
       "2022-11-18  241.220001  \n",
       "2022-11-21  242.050003  \n",
       "2022-11-22  245.029999  \n",
       "2022-11-23  247.580002  \n",
       "\n",
       "[1259 rows x 6 columns]"
      ]
     },
     "execution_count": 137,
     "metadata": {},
     "output_type": "execute_result"
    }
   ],
   "source": [
    "df_msft"
   ]
  },
  {
   "cell_type": "code",
   "execution_count": 131,
   "id": "17abf107",
   "metadata": {},
   "outputs": [
    {
     "data": {
      "text/plain": [
       "<AxesSubplot:xlabel='Date'>"
      ]
     },
     "execution_count": 131,
     "metadata": {},
     "output_type": "execute_result"
    },
    {
     "data": {
      "image/png": "[encoded data removed]",
      "text/plain": [
       "<Figure size 432x288 with 1 Axes>"
      ]
     },
     "metadata": {
      "needs_background": "light"
     },
     "output_type": "display_data"
    }
   ],
   "source": [
    "df_msft['High'].resample(rule= 'BA').max().plot()"
   ]
  },
  {
   "cell_type": "code",
   "execution_count": 133,
   "id": "7dcede90",
   "metadata": {},
   "outputs": [
    {
     "data": {
      "text/plain": [
       "<AxesSubplot:xlabel='Date'>"
      ]
     },
     "execution_count": 133,
     "metadata": {},
     "output_type": "execute_result"
    },
    {
     "data": {
      "image/png": "[encoded data removed]",
      "text/plain": [
       "<Figure size 432x288 with 1 Axes>"
      ]
     },
     "metadata": {
      "needs_background": "light"
     },
     "output_type": "display_data"
    }
   ],
   "source": [
    "df_msft['High'].resample(rule= 'BA').max().plot(xlim= ['2017-01-01','2022-12-30'])"
   ]
  },
  {
   "cell_type": "code",
   "execution_count": 143,
   "id": "85e7cbac",
   "metadata": {},
   "outputs": [
    {
     "data": {
      "text/html": [
       "<div>\n",
       "<style scoped>\n",
       "    .dataframe tbody tr th:only-of-type {\n",
       "        vertical-align: middle;\n",
       "    }\n",
       "\n",
       "    .dataframe tbody tr th {\n",
       "        vertical-align: top;\n",
       "    }\n",
       "\n",
       "    .dataframe thead th {\n",
       "        text-align: right;\n",
       "    }\n",
       "</style>\n",
       "<table border=\"1\" class=\"dataframe\">\n",
       "  <thead>\n",
       "    <tr style=\"text-align: right;\">\n",
       "      <th></th>\n",
       "      <th>High</th>\n",
       "      <th>Low</th>\n",
       "      <th>Open</th>\n",
       "      <th>Close</th>\n",
       "      <th>Volume</th>\n",
       "      <th>Adj Close</th>\n",
       "    </tr>\n",
       "    <tr>\n",
       "      <th>Date</th>\n",
       "      <th></th>\n",
       "      <th></th>\n",
       "      <th></th>\n",
       "      <th></th>\n",
       "      <th></th>\n",
       "      <th></th>\n",
       "    </tr>\n",
       "  </thead>\n",
       "  <tbody>\n",
       "    <tr>\n",
       "      <th>2021-11-22</th>\n",
       "      <td>349.670013</td>\n",
       "      <td>339.549988</td>\n",
       "      <td>344.619995</td>\n",
       "      <td>339.829987</td>\n",
       "      <td>31031100.0</td>\n",
       "      <td>336.675262</td>\n",
       "    </tr>\n",
       "  </tbody>\n",
       "</table>\n",
       "</div>"
      ],
      "text/plain": [
       "                  High         Low        Open       Close      Volume  \\\n",
       "Date                                                                     \n",
       "2021-11-22  349.670013  339.549988  344.619995  339.829987  31031100.0   \n",
       "\n",
       "             Adj Close  \n",
       "Date                    \n",
       "2021-11-22  336.675262  "
      ]
     },
     "execution_count": 143,
     "metadata": {},
     "output_type": "execute_result"
    }
   ],
   "source": [
    " df_msft[df_msft['High'] == df_msft['High'].max()]"
   ]
  },
  {
   "cell_type": "code",
   "execution_count": 144,
   "id": "ccc2a541",
   "metadata": {},
   "outputs": [
    {
     "data": {
      "text/html": [
       "<div>\n",
       "<style scoped>\n",
       "    .dataframe tbody tr th:only-of-type {\n",
       "        vertical-align: middle;\n",
       "    }\n",
       "\n",
       "    .dataframe tbody tr th {\n",
       "        vertical-align: top;\n",
       "    }\n",
       "\n",
       "    .dataframe thead th {\n",
       "        text-align: right;\n",
       "    }\n",
       "</style>\n",
       "<table border=\"1\" class=\"dataframe\">\n",
       "  <thead>\n",
       "    <tr style=\"text-align: right;\">\n",
       "      <th></th>\n",
       "      <th>High</th>\n",
       "      <th>Low</th>\n",
       "      <th>Open</th>\n",
       "      <th>Close</th>\n",
       "      <th>Volume</th>\n",
       "      <th>Adj Close</th>\n",
       "    </tr>\n",
       "    <tr>\n",
       "      <th>Date</th>\n",
       "      <th></th>\n",
       "      <th></th>\n",
       "      <th></th>\n",
       "      <th></th>\n",
       "      <th></th>\n",
       "      <th></th>\n",
       "    </tr>\n",
       "  </thead>\n",
       "  <tbody>\n",
       "    <tr>\n",
       "      <th>2017-12-05</th>\n",
       "      <td>82.68</td>\n",
       "      <td>80.980003</td>\n",
       "      <td>81.339996</td>\n",
       "      <td>81.589996</td>\n",
       "      <td>26152300.0</td>\n",
       "      <td>76.834518</td>\n",
       "    </tr>\n",
       "  </tbody>\n",
       "</table>\n",
       "</div>"
      ],
      "text/plain": [
       "             High        Low       Open      Close      Volume  Adj Close\n",
       "Date                                                                     \n",
       "2017-12-05  82.68  80.980003  81.339996  81.589996  26152300.0  76.834518"
      ]
     },
     "execution_count": 144,
     "metadata": {},
     "output_type": "execute_result"
    }
   ],
   "source": [
    " df_msft[df_msft['High'] == df_msft['High'].min()]"
   ]
  }
 ],
 "metadata": {
  "kernelspec": {
   "display_name": "Python 3 (ipykernel)",
   "language": "python",
   "name": "python3"
  },
  "language_info": {
   "codemirror_mode": {
    "name": "ipython",
    "version": 3
   },
   "file_extension": ".py",
   "mimetype": "text/x-python",
   "name": "python",
   "nbconvert_exporter": "python",
   "pygments_lexer": "ipython3",
   "version": "3.8.8"
  }
 },
 "nbformat": 4,
 "nbformat_minor": 5
}
